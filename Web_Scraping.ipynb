{
  "nbformat": 4,
  "nbformat_minor": 0,
  "metadata": {
    "colab": {
      "name": "Taller3.ipynb",
      "provenance": [],
      "collapsed_sections": []
    },
    "kernelspec": {
      "name": "python3",
      "display_name": "Python 3"
    }
  },
  "cells": [
    {
      "cell_type": "code",
      "metadata": {
        "colab": {
          "base_uri": "https://localhost:8080/"
        },
        "id": "bv_jfu9sCvsQ",
        "outputId": "6af0db2c-de54-44b9-cf69-1ac1310b0429"
      },
      "source": [
        "pip install beautifulsoup4"
      ],
      "execution_count": 4,
      "outputs": [
        {
          "output_type": "stream",
          "text": [
            "Requirement already satisfied: beautifulsoup4 in /usr/local/lib/python3.7/dist-packages (4.6.3)\n"
          ],
          "name": "stdout"
        }
      ]
    },
    {
      "cell_type": "code",
      "metadata": {
        "id": "p9ck7GAdGfQP"
      },
      "source": [
        "import bs4 as bs"
      ],
      "execution_count": 5,
      "outputs": []
    },
    {
      "cell_type": "code",
      "metadata": {
        "id": "F1MwRg_0WsOe"
      },
      "source": [
        "import urllib.request\r\n",
        "import re\r\n",
        "from unicodedata import normalize"
      ],
      "execution_count": 76,
      "outputs": []
    },
    {
      "cell_type": "code",
      "metadata": {
        "id": "RpGP2XfAGiAl"
      },
      "source": [
        "enlace0 = \"https://es.wikipedia.org/wiki/Felis_silvestris_catus\"\r\n",
        "enlace1 = \"https://es.wikipedia.org/wiki/Canis_familiaris\"\r\n",
        "enlace2 = \"https://es.wikipedia.org/wiki/Delphinidae\"\r\n",
        "enlace3 = \"https://es.wikipedia.org/wiki/Orcinus_orca\"\r\n",
        "enlace4 = \"https://es.wikipedia.org/wiki/Ornithorhynchus_anatinus\"\r\n",
        "enlace5 = \"https://es.wikipedia.org/wiki/Equus_ferus_caballus\"\r\n",
        "enlace6 = \"https://es.wikipedia.org/wiki/Giraffa_camelopardalis\"\r\n",
        "enlace7 = \"https://es.wikipedia.org/wiki/Panthera_leo\"\r\n",
        "enlace8 = \"https://es.wikipedia.org/wiki/%C3%81guila\"\r\n",
        "enlace9 = \"https://es.wikipedia.org/wiki/Antilope_cervicapra\"\r\n",
        "TodoslasURL = [enlace0, enlace1, enlace2, enlace3, enlace4, enlace5, enlace6, enlace7, enlace8, enlace9]"
      ],
      "execution_count": 89,
      "outputs": []
    },
    {
      "cell_type": "code",
      "metadata": {
        "id": "qsSWZzsDqBrq"
      },
      "source": [
        "def paginaPython(datUrl):\r\n",
        "    request = urllib.request.Request(datUrl, headers={'User-Agent': 'Mozilla/5.0'})\r\n",
        "    webpage = urllib.request.urlopen(request)\r\n",
        "    source = webpage.read()\r\n",
        "    webpage.close()\r\n",
        "    soup = bs.BeautifulSoup(source, 'html.parser')\r\n",
        "    return soup;"
      ],
      "execution_count": 91,
      "outputs": []
    },
    {
      "cell_type": "code",
      "metadata": {
        "id": "ycX1GvE6Aerr"
      },
      "source": [
        "def recorrerUrlTitulo(datoUrl):\r\n",
        "  datopagina = paginaPython(datoUrl)\r\n",
        "  titulo = datopagina.findAll('h1')\r\n",
        "  for dato in titulo:\r\n",
        "    header_append = dato.find(text=True)\r\n",
        "  return header_append\r\n",
        "\r\n",
        "\r\n",
        "def recorrerDiv(datoUrl):\r\n",
        "  datopagina = paginaPython(datoUrl)\r\n",
        "  job_elems = datopagina.find('div', class_='mw-parser-output')\r\n",
        "  parrafotexto = job_elems.find_all(\"p\")[0]\r\n",
        "  datos = parrafotexto.find_all(\"b\") \r\n",
        "  todaslasnegrillas =[]\r\n",
        "  for dates in datos:\r\n",
        "    todaslasnegrillas.append(dates.text)\r\n",
        "  return todaslasnegrillas\r\n",
        "\r\n",
        "def funcionAgrupa(TodoslasURL_):\r\n",
        "  titulos=[]\r\n",
        "  for encabezados in TodoslasURL:\r\n",
        "    getEncabezados = recorrerUrlTitulo(encabezados)\r\n",
        "    titulos.append(\"Encabezados: \" + getEncabezados)\r\n",
        "    datneg = recorrerDiv(encabezados)\r\n",
        "    titulos.append(datneg)\r\n",
        "  return titulos"
      ],
      "execution_count": 161,
      "outputs": []
    },
    {
      "cell_type": "code",
      "metadata": {
        "colab": {
          "base_uri": "https://localhost:8080/"
        },
        "id": "LDy6YWLwAlRo",
        "outputId": "718649c5-f4d2-4ad0-806e-4b3c5e8de260"
      },
      "source": [
        "Final_Taller = funcionAgrupa(TodoslasURL)\r\n",
        "Final_Taller"
      ],
      "execution_count": 162,
      "outputs": [
        {
          "output_type": "execute_result",
          "data": {
            "text/plain": [
              "['Encabezados: Felis silvestris catus',\n",
              " ['gato doméstico',\n",
              "  'Felis silvestris catus',\n",
              "  'gato',\n",
              "  'minino',\n",
              "  'michino',\n",
              "  'michi',\n",
              "  'micho',\n",
              "  'mizo',\n",
              "  'miz',\n",
              "  'morroño',\n",
              "  'morrongo'],\n",
              " 'Encabezados: Canis familiaris',\n",
              " ['perro',\n",
              "  'Canis familiaris',\n",
              "  'Canis lupus familiaris',\n",
              "  'perro doméstico',\n",
              "  'can',\n",
              "  'chucho',\n",
              "  'tuso',\n",
              "  'choco'],\n",
              " 'Encabezados: Delphinidae',\n",
              " ['delfines', 'Delphinidae', 'delfines oceánicos'],\n",
              " 'Encabezados: Orcinus orca',\n",
              " ['orca', 'Orcinus orca'],\n",
              " 'Encabezados: Ornithorhynchus anatinus',\n",
              " [],\n",
              " 'Encabezados: Equus ferus caballus',\n",
              " ['caballo', 'Equus ferus caballus'],\n",
              " 'Encabezados: Giraffa camelopardalis',\n",
              " [],\n",
              " 'Encabezados: Panthera leo',\n",
              " ['león', 'Panthera leo'],\n",
              " 'Encabezados: Águila',\n",
              " ['Águila'],\n",
              " 'Encabezados: Antilope cervicapra',\n",
              " ['antílope indio',\n",
              "  'antílope negro',\n",
              "  'sasín',\n",
              "  'cervicabra',\n",
              "  'Antilope cervicapra']]"
            ]
          },
          "metadata": {
            "tags": []
          },
          "execution_count": 162
        }
      ]
    }
  ]
}
