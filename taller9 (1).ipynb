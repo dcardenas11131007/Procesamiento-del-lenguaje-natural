{
 "cells": [
  {
   "cell_type": "markdown",
   "metadata": {},
   "source": [
    "<img src='https://encrypted-tbn0.gstatic.com/images?q=tbn%3AANd9GcQ-VfNtOyJbsaxu43Kztf_cv1mgBG6ZIQZEVw&usqp=CAU'>\n",
    "\n",
    "# Procesamiento de Lenguaje Natural\n",
    "\n",
    "## Taller #9: Modelado de temas\n",
    "\n",
    "Daniel Cárdenas Niño 616202006"
   ]
  },
  {
   "cell_type": "code",
   "execution_count": 2,
   "metadata": {},
   "outputs": [
    {
     "name": "stderr",
     "output_type": "stream",
     "text": [
      "C:\\Users\\dcard\\anaconda3\\lib\\site-packages\\scipy\\sparse\\sparsetools.py:21: DeprecationWarning: `scipy.sparse.sparsetools` is deprecated!\n",
      "scipy.sparse.sparsetools is a private module for scipy.sparse, and should not be used.\n",
      "  _deprecated()\n"
     ]
    }
   ],
   "source": [
    "import re\n",
    "import pandas as pd \n",
    "from pprint import pprint\n",
    "\n",
    "from nltk.corpus import stopwords\n",
    "stopwords = stopwords.words('spanish')\n",
    "\n",
    "import pyLDAvis.gensim_models\n",
    "from gensim.models import LdaModel\n",
    "from gensim.corpora import Dictionary\n",
    "\n",
    "import warnings\n",
    "warnings.filterwarnings(\"ignore\", category=DeprecationWarning)"
   ]
  },
  {
   "cell_type": "code",
   "execution_count": 3,
   "metadata": {},
   "outputs": [
    {
     "data": {
      "text/html": [
       "<div>\n",
       "<style scoped>\n",
       "    .dataframe tbody tr th:only-of-type {\n",
       "        vertical-align: middle;\n",
       "    }\n",
       "\n",
       "    .dataframe tbody tr th {\n",
       "        vertical-align: top;\n",
       "    }\n",
       "\n",
       "    .dataframe thead th {\n",
       "        text-align: right;\n",
       "    }\n",
       "</style>\n",
       "<table border=\"1\" class=\"dataframe\">\n",
       "  <thead>\n",
       "    <tr style=\"text-align: right;\">\n",
       "      <th></th>\n",
       "      <th>review_id</th>\n",
       "      <th>product_id</th>\n",
       "      <th>reviewer_id</th>\n",
       "      <th>stars</th>\n",
       "      <th>review_body</th>\n",
       "      <th>review_title</th>\n",
       "      <th>language</th>\n",
       "      <th>product_category</th>\n",
       "    </tr>\n",
       "  </thead>\n",
       "  <tbody>\n",
       "    <tr>\n",
       "      <th>0</th>\n",
       "      <td>es_0825565</td>\n",
       "      <td>product_es_0370490</td>\n",
       "      <td>reviewer_es_0174781</td>\n",
       "      <td>3</td>\n",
       "      <td>Buen. Buena calidad, y buena presentación.</td>\n",
       "      <td>Contenta</td>\n",
       "      <td>es</td>\n",
       "      <td>jewelry</td>\n",
       "    </tr>\n",
       "    <tr>\n",
       "      <th>1</th>\n",
       "      <td>es_0227934</td>\n",
       "      <td>product_es_0354224</td>\n",
       "      <td>reviewer_es_0411613</td>\n",
       "      <td>3</td>\n",
       "      <td>Un producto a perfecto, para salir de casa con...</td>\n",
       "      <td>Versatilidad</td>\n",
       "      <td>es</td>\n",
       "      <td>video_games</td>\n",
       "    </tr>\n",
       "    <tr>\n",
       "      <th>2</th>\n",
       "      <td>es_0468601</td>\n",
       "      <td>product_es_0665460</td>\n",
       "      <td>reviewer_es_0348315</td>\n",
       "      <td>1</td>\n",
       "      <td>No funciona con Nintendo Switch. No hay forma ...</td>\n",
       "      <td>Decepción absoluta</td>\n",
       "      <td>es</td>\n",
       "      <td>video_games</td>\n",
       "    </tr>\n",
       "    <tr>\n",
       "      <th>3</th>\n",
       "      <td>es_0814494</td>\n",
       "      <td>product_es_0692692</td>\n",
       "      <td>reviewer_es_0951508</td>\n",
       "      <td>5</td>\n",
       "      <td>Recomendado, los utilizo para pc y no me dan n...</td>\n",
       "      <td>Auriculares Pecham ps4</td>\n",
       "      <td>es</td>\n",
       "      <td>video_games</td>\n",
       "    </tr>\n",
       "    <tr>\n",
       "      <th>4</th>\n",
       "      <td>es_0206329</td>\n",
       "      <td>product_es_0728826</td>\n",
       "      <td>reviewer_es_0493255</td>\n",
       "      <td>4</td>\n",
       "      <td>El cable funciona bien podria ser un poco mas ...</td>\n",
       "      <td>Perfecto</td>\n",
       "      <td>es</td>\n",
       "      <td>video_games</td>\n",
       "    </tr>\n",
       "  </tbody>\n",
       "</table>\n",
       "</div>"
      ],
      "text/plain": [
       "    review_id          product_id          reviewer_id  stars  \\\n",
       "0  es_0825565  product_es_0370490  reviewer_es_0174781      3   \n",
       "1  es_0227934  product_es_0354224  reviewer_es_0411613      3   \n",
       "2  es_0468601  product_es_0665460  reviewer_es_0348315      1   \n",
       "3  es_0814494  product_es_0692692  reviewer_es_0951508      5   \n",
       "4  es_0206329  product_es_0728826  reviewer_es_0493255      4   \n",
       "\n",
       "                                         review_body            review_title  \\\n",
       "0         Buen. Buena calidad, y buena presentación.                Contenta   \n",
       "1  Un producto a perfecto, para salir de casa con...            Versatilidad   \n",
       "2  No funciona con Nintendo Switch. No hay forma ...      Decepción absoluta   \n",
       "3  Recomendado, los utilizo para pc y no me dan n...  Auriculares Pecham ps4   \n",
       "4  El cable funciona bien podria ser un poco mas ...                Perfecto   \n",
       "\n",
       "  language product_category  \n",
       "0       es          jewelry  \n",
       "1       es      video_games  \n",
       "2       es      video_games  \n",
       "3       es      video_games  \n",
       "4       es      video_games  "
      ]
     },
     "execution_count": 3,
     "metadata": {},
     "output_type": "execute_result"
    }
   ],
   "source": [
    "# Cargar datos\n",
    "path = \"C:/Users/dcard/OneDrive/Escritorio/NPL/reviews_vidjew_es (1).csv\"\n",
    "data = pd.read_csv(path)\n",
    "data.head()"
   ]
  },
  {
   "cell_type": "markdown",
   "metadata": {},
   "source": [
    "###  `[12 pts]` Punto 1: Hacer pre-procesamiento del texto"
   ]
  },
  {
   "cell_type": "code",
   "execution_count": 6,
   "metadata": {},
   "outputs": [
    {
     "data": {
      "text/html": [
       "<div>\n",
       "<style scoped>\n",
       "    .dataframe tbody tr th:only-of-type {\n",
       "        vertical-align: middle;\n",
       "    }\n",
       "\n",
       "    .dataframe tbody tr th {\n",
       "        vertical-align: top;\n",
       "    }\n",
       "\n",
       "    .dataframe thead th {\n",
       "        text-align: right;\n",
       "    }\n",
       "</style>\n",
       "<table border=\"1\" class=\"dataframe\">\n",
       "  <thead>\n",
       "    <tr style=\"text-align: right;\">\n",
       "      <th></th>\n",
       "      <th>review_id</th>\n",
       "      <th>product_id</th>\n",
       "      <th>reviewer_id</th>\n",
       "      <th>stars</th>\n",
       "      <th>review_body</th>\n",
       "      <th>review_title</th>\n",
       "      <th>language</th>\n",
       "      <th>product_category</th>\n",
       "      <th>Pre-Processed</th>\n",
       "      <th>pp</th>\n",
       "    </tr>\n",
       "  </thead>\n",
       "  <tbody>\n",
       "    <tr>\n",
       "      <th>0</th>\n",
       "      <td>es_0825565</td>\n",
       "      <td>product_es_0370490</td>\n",
       "      <td>reviewer_es_0174781</td>\n",
       "      <td>3</td>\n",
       "      <td>Buen. Buena calidad, y buena presentación.</td>\n",
       "      <td>Contenta</td>\n",
       "      <td>es</td>\n",
       "      <td>jewelry</td>\n",
       "      <td>[buen, buena, calidad, buena, presentación]</td>\n",
       "      <td>[buen, buena, calidad, buena, presentación]</td>\n",
       "    </tr>\n",
       "    <tr>\n",
       "      <th>1</th>\n",
       "      <td>es_0227934</td>\n",
       "      <td>product_es_0354224</td>\n",
       "      <td>reviewer_es_0411613</td>\n",
       "      <td>3</td>\n",
       "      <td>Un producto a perfecto, para salir de casa con...</td>\n",
       "      <td>Versatilidad</td>\n",
       "      <td>es</td>\n",
       "      <td>video_games</td>\n",
       "      <td>[producto, perfecto, salir, casa, nintendo, sw...</td>\n",
       "      <td>[producto, perfecto, salir, casa, nintendo, sw...</td>\n",
       "    </tr>\n",
       "    <tr>\n",
       "      <th>2</th>\n",
       "      <td>es_0468601</td>\n",
       "      <td>product_es_0665460</td>\n",
       "      <td>reviewer_es_0348315</td>\n",
       "      <td>1</td>\n",
       "      <td>No funciona con Nintendo Switch. No hay forma ...</td>\n",
       "      <td>Decepción absoluta</td>\n",
       "      <td>es</td>\n",
       "      <td>video_games</td>\n",
       "      <td>[funciona, nintendo, switch, forma, emparejarl...</td>\n",
       "      <td>[funciona, nintendo, switch, forma, emparejarl...</td>\n",
       "    </tr>\n",
       "    <tr>\n",
       "      <th>3</th>\n",
       "      <td>es_0814494</td>\n",
       "      <td>product_es_0692692</td>\n",
       "      <td>reviewer_es_0951508</td>\n",
       "      <td>5</td>\n",
       "      <td>Recomendado, los utilizo para pc y no me dan n...</td>\n",
       "      <td>Auriculares Pecham ps4</td>\n",
       "      <td>es</td>\n",
       "      <td>video_games</td>\n",
       "      <td>[recomendado, utilizo, pc, dan, ningún, proble...</td>\n",
       "      <td>[recomendado, utilizo, pc, dan, ningún, proble...</td>\n",
       "    </tr>\n",
       "    <tr>\n",
       "      <th>4</th>\n",
       "      <td>es_0206329</td>\n",
       "      <td>product_es_0728826</td>\n",
       "      <td>reviewer_es_0493255</td>\n",
       "      <td>4</td>\n",
       "      <td>El cable funciona bien podria ser un poco mas ...</td>\n",
       "      <td>Perfecto</td>\n",
       "      <td>es</td>\n",
       "      <td>video_games</td>\n",
       "      <td>[cable, funciona, bien, podria, ser, mas, larg...</td>\n",
       "      <td>[cable, funciona, bien, podria, ser, mas, larg...</td>\n",
       "    </tr>\n",
       "  </tbody>\n",
       "</table>\n",
       "</div>"
      ],
      "text/plain": [
       "    review_id          product_id          reviewer_id  stars  \\\n",
       "0  es_0825565  product_es_0370490  reviewer_es_0174781      3   \n",
       "1  es_0227934  product_es_0354224  reviewer_es_0411613      3   \n",
       "2  es_0468601  product_es_0665460  reviewer_es_0348315      1   \n",
       "3  es_0814494  product_es_0692692  reviewer_es_0951508      5   \n",
       "4  es_0206329  product_es_0728826  reviewer_es_0493255      4   \n",
       "\n",
       "                                         review_body            review_title  \\\n",
       "0         Buen. Buena calidad, y buena presentación.                Contenta   \n",
       "1  Un producto a perfecto, para salir de casa con...            Versatilidad   \n",
       "2  No funciona con Nintendo Switch. No hay forma ...      Decepción absoluta   \n",
       "3  Recomendado, los utilizo para pc y no me dan n...  Auriculares Pecham ps4   \n",
       "4  El cable funciona bien podria ser un poco mas ...                Perfecto   \n",
       "\n",
       "  language product_category  \\\n",
       "0       es          jewelry   \n",
       "1       es      video_games   \n",
       "2       es      video_games   \n",
       "3       es      video_games   \n",
       "4       es      video_games   \n",
       "\n",
       "                                       Pre-Processed  \\\n",
       "0        [buen, buena, calidad, buena, presentación]   \n",
       "1  [producto, perfecto, salir, casa, nintendo, sw...   \n",
       "2  [funciona, nintendo, switch, forma, emparejarl...   \n",
       "3  [recomendado, utilizo, pc, dan, ningún, proble...   \n",
       "4  [cable, funciona, bien, podria, ser, mas, larg...   \n",
       "\n",
       "                                                  pp  \n",
       "0        [buen, buena, calidad, buena, presentación]  \n",
       "1  [producto, perfecto, salir, casa, nintendo, sw...  \n",
       "2  [funciona, nintendo, switch, forma, emparejarl...  \n",
       "3  [recomendado, utilizo, pc, dan, ningún, proble...  \n",
       "4  [cable, funciona, bien, podria, ser, mas, larg...  "
      ]
     },
     "execution_count": 6,
     "metadata": {},
     "output_type": "execute_result"
    }
   ],
   "source": [
    "def pre_procesado(texto):\n",
    "    texto = texto.lower()\n",
    "    texto = re.sub(r\"[\\W\\d]+\", \" \", texto)\n",
    "    texto = [palabra for palabra in texto.split() if palabra not in stopwords]\n",
    "    return texto \n",
    "\n",
    "data['pp'] = data['review_body'].apply(lambda texto: pre_procesado(texto))\n",
    "\n",
    "data.head()"
   ]
  },
  {
   "cell_type": "markdown",
   "metadata": {},
   "source": [
    "###  `[10 pts]` Punto 2: Modelo de LDA"
   ]
  },
  {
   "cell_type": "code",
   "execution_count": 16,
   "metadata": {},
   "outputs": [
    {
     "data": {
      "text/plain": [
       "[(0,\n",
       "  '0.044*\"juego\" + 0.028*\"si\" + 0.019*\"mando\" + 0.014*\"puede\" + 0.013*\"mas\" + 0.013*\"llegado\" + 0.012*\"jugar\" + 0.011*\"precio\" + 0.011*\"mejor\" + 0.010*\"solo\"'),\n",
       " (1,\n",
       "  '0.045*\"bien\" + 0.044*\"calidad\" + 0.026*\"precio\" + 0.022*\"buena\" + 0.020*\"regalo\" + 0.014*\"bonito\" + 0.013*\"plata\" + 0.012*\"si\" + 0.011*\"pendientes\" + 0.011*\"bonitos\"'),\n",
       " (2,\n",
       "  '0.037*\"producto\" + 0.024*\"bien\" + 0.020*\"foto\" + 0.017*\"llegó\" + 0.017*\"parece\" + 0.014*\"calidad\" + 0.013*\"cadena\" + 0.013*\"perfecto\" + 0.012*\"pequeño\" + 0.012*\"bonito\"')]"
      ]
     },
     "execution_count": 16,
     "metadata": {},
     "output_type": "execute_result"
    }
   ],
   "source": [
    "dictionary = Dictionary(data['pp'].values)\n",
    "\n",
    "# Filtrar palabras muy frecuentes o infrecuentes\n",
    "dictionary.filter_extremes(no_below=5, no_above=0.5) \n",
    "\n",
    "# Corpus\n",
    "corpus = [dictionary.doc2bow(text) for text in data['pp'].values]\n",
    "\n",
    "# Entrenar el modelo\n",
    "model = LdaModel(corpus = corpus, id2word = dictionary, num_topics = 3, passes=30)\n",
    "\n",
    "\n",
    "model.print_topics(num_words=10)"
   ]
  },
  {
   "cell_type": "markdown",
   "metadata": {},
   "source": [
    "Por los trabajos que se han hecho con el dataset se sabe que son dos categorias. (Joyas y juego). Pruebo el algoritmo con dos topicos para evaluar la exactitud de los dos textos"
   ]
  },
  {
   "cell_type": "markdown",
   "metadata": {},
   "source": [
    "###  `[25 pts]` Punto 3: Visualización de LDA"
   ]
  },
  {
   "cell_type": "code",
   "execution_count": 17,
   "metadata": {},
   "outputs": [
    {
     "data": {
      "text/html": [
       "\n",
       "<link rel=\"stylesheet\" type=\"text/css\" href=\"https://cdn.jsdelivr.net/gh/bmabey/pyLDAvis@3.3.1/pyLDAvis/js/ldavis.v1.0.0.css\">\n",
       "\n",
       "\n",
       "<div id=\"ldavis_el1188815561682482242937611523\"></div>\n",
       "<script type=\"text/javascript\">\n",
       "\n",
       "var ldavis_el1188815561682482242937611523_data = {\"mdsDat\": {\"x\": [-0.18503059371164915, 0.08310168100088812, 0.10192891271076109], \"y\": [0.008970598412423897, -0.13672740275421985, 0.1277568043417959], \"topics\": [1, 2, 3], \"cluster\": [1, 1, 1], \"Freq\": [35.97883731356612, 32.49214151274214, 31.529021173691753]}, \"tinfo\": {\"Term\": [\"juego\", \"calidad\", \"producto\", \"mando\", \"bien\", \"foto\", \"lleg\\u00f3\", \"buena\", \"regalo\", \"cadena\", \"plata\", \"jugar\", \"parece\", \"peque\\u00f1o\", \"pendientes\", \"bonito\", \"comprar\", \"colgante\", \"tal\", \"si\", \"entrega\", \"peque\\u00f1os\", \"mala\", \"quedan\", \"env\\u00edo\", \"tama\\u00f1o\", \"grandes\", \"menos\", \"puede\", \"bonitos\", \"juego\", \"mando\", \"jugar\", \"switch\", \"espa\\u00f1ol\", \"hacer\", \"hijo\", \"caso\", \"versi\\u00f3n\", \"nintendo\", \"xbox\", \"menos\", \"todav\\u00eda\", \"historia\", \"saga\", \"devolver\", \"pc\", \"poder\", \"edici\\u00f3n\", \"conectar\", \"normal\", \"esperando\", \"veces\", \"modo\", \"todas\", \"voy\", \"encanta\", \"gran\", \"entretenido\", \"gr\\u00e1ficos\", \"problemas\", \"italiano\", \"original\", \"mejor\", \"vale\", \"pena\", \"cable\", \"si\", \"puede\", \"funciona\", \"llegado\", \"mas\", \"solo\", \"amazon\", \"pedido\", \"despu\\u00e9s\", \"va\", \"precio\", \"gracias\", \"as\\u00ed\", \"mal\", \"viene\", \"perfecto\", \"perfectamente\", \"caja\", \"pendientes\", \"plata\", \"dise\\u00f1o\", \"q\", \"quedan\", \"collar\", \"entregado\", \"mala\", \"contenta\", \"relaci\\u00f3n\", \"toda\", \"cargar\", \"hija\", \"presentaci\\u00f3n\", \"materiales\", \"grandes\", \"mandos\", \"puestos\", \"elegantes\", \"parecido\", \"usb\", \"c\\u00f3modos\", \"precioso\", \"correctamente\", \"embalaje\", \"perdi\\u00f3\", \"encantado\", \"ven\", \"transporte\", \"dorado\", \"buena\", \"regalo\", \"calidad\", \"bonita\", \"uso\", \"consola\", \"bien\", \"ven\\u00eda\", \"recomiendo\", \"bonitos\", \"dentro\", \"compra\", \"precio\", \"gustado\", \"bonito\", \"pulsera\", \"ps\", \"color\", \"queda\", \"si\", \"mal\", \"buen\", \"bastante\", \"compr\\u00e9\", \"tiempo\", \"cadena\", \"comprar\", \"colgante\", \"entrega\", \"peque\\u00f1os\", \"peque\\u00f1o\", \"fina\", \"env\\u00edo\", \"lleg\\u00f3\", \"ped\\u00ed\", \"llega\", \"descripci\\u00f3n\", \"peque\\u00f1a\", \"imagen\", \"envio\", \"rota\", \"encant\\u00f3\", \"foto\", \"cuidado\", \"preciosa\", \"contento\", \"roto\", \"rompi\\u00f3\", \"tal\", \"corresponde\", \"castellano\", \"resulta\", \"cierra\", \"piedras\", \"prime\", \"r\\u00e1pido\", \"vendedor\", \"producto\", \"parece\", \"tama\\u00f1o\", \"llego\", \"fotos\", \"perfecto\", \"caja\", \"grande\", \"bien\", \"d\\u00eda\", \"bonito\", \"buen\", \"tiempo\", \"calidad\", \"bastante\", \"dos\", \"precio\", \"esperaba\"], \"Freq\": [119.0, 142.0, 104.0, 53.0, 183.0, 52.0, 42.0, 64.0, 61.0, 32.0, 34.0, 34.0, 48.0, 29.0, 28.0, 62.0, 25.0, 25.0, 29.0, 113.0, 23.0, 21.0, 24.0, 22.0, 21.0, 34.0, 24.0, 24.0, 51.0, 38.0, 118.84448581904476, 52.71868647062641, 33.809654683107404, 20.413202777543482, 17.54173515200915, 19.388294925376954, 15.6158705277794, 15.61483575278974, 13.721402954982235, 16.361058156913874, 11.79478253921592, 23.57214382989269, 11.772040315362293, 9.891525719539672, 10.789927256793865, 10.78220575567617, 9.883498604730178, 8.921265653407946, 8.917451822793483, 8.916299747942864, 8.912647600920534, 8.900387546263634, 11.546846140130965, 7.970362600547868, 16.770424526812185, 7.944695488809866, 7.927682570597518, 17.60477273134247, 7.0143002559654475, 7.013188126472884, 11.221679512589805, 7.845438248625239, 27.19384868506251, 29.959858029113885, 17.128980401262343, 25.668671509126618, 19.010409301947153, 76.23803141391434, 38.33542063530942, 26.408061354863147, 34.351831125851376, 36.57440860161985, 27.83443527277899, 22.612473722019114, 16.795106953771423, 17.438153668301556, 15.63356949166504, 31.17577190244161, 15.080635700591056, 19.00909807971761, 18.325981732683466, 18.485260994694784, 20.770966085365533, 17.367222125352264, 16.784723696889884, 27.945833144848816, 33.18722733728126, 18.69000162477084, 15.038005332762951, 21.198937202460385, 15.010399928478849, 14.015806014276468, 22.733690030459293, 11.317195370038483, 7.679343626809394, 9.38196433992642, 7.672659580258713, 7.666281878684012, 7.64219457446051, 7.632344581419749, 21.99351705032686, 13.530933493229135, 6.7578201469711345, 6.743848525636721, 6.738972200748037, 6.73516493393441, 6.720102495442535, 6.702809178396607, 7.539232886944789, 7.523400864064657, 5.837483682338868, 12.511263954376071, 5.831944850651664, 6.647668227935075, 5.796276561121255, 52.926068268692774, 49.263538290370626, 108.1336244266846, 21.622600279484622, 18.76155693987058, 16.46626348539231, 111.14914007315868, 11.68078963704365, 21.041170112438127, 27.04065989761641, 14.562707953189145, 23.28979262558514, 63.1672071556452, 22.591926172939257, 34.44485649175666, 23.042442248082295, 18.931264040059443, 15.091481140812988, 20.293111182755798, 29.078860631748242, 17.367339153843197, 20.30820282422669, 18.94775627930837, 15.028265280349082, 15.49090689046661, 31.926608663659746, 24.428886841707786, 24.41061980488467, 22.544430518947735, 20.694316847725673, 28.699297324293315, 14.251643642588078, 20.448628647388144, 40.79374482695786, 13.300880936689163, 15.927109195173005, 12.378746738068326, 15.814937720728121, 12.27859030207894, 14.03478175537815, 10.479739461411095, 10.472408421021628, 48.82624476452365, 10.459319896888362, 8.66313554574826, 8.652731847078229, 18.12812488711071, 8.624903453348798, 27.473501142391466, 7.727657786800526, 7.698639224167485, 7.696612269844248, 6.760263276143544, 5.878567038525032, 5.876112801341443, 18.476534331868564, 17.515554620460968, 87.48606008679131, 39.7141160551678, 26.201120571657345, 25.47318837778749, 13.689013796599648, 31.012234455191955, 25.91926723892102, 18.91639119889255, 57.76053490246714, 25.146359773466727, 28.198926313808894, 27.352432849793168, 21.78087993693733, 33.57021969558921, 21.110860406225992, 17.804350049500613, 21.3789384506998, 16.69363019873276], \"Total\": [119.0, 142.0, 104.0, 53.0, 183.0, 52.0, 42.0, 64.0, 61.0, 32.0, 34.0, 34.0, 48.0, 29.0, 28.0, 62.0, 25.0, 25.0, 29.0, 113.0, 23.0, 21.0, 24.0, 22.0, 21.0, 34.0, 24.0, 24.0, 51.0, 38.0, 119.70864691212208, 53.61068948596996, 34.461721101520105, 21.051707262987726, 18.1781644953078, 20.0918073254855, 16.26189519757343, 16.261822508385436, 14.346926029058517, 17.213529460269704, 12.430656485320448, 24.863473033962006, 12.42969312378753, 10.515351293665152, 11.47100838580231, 11.470815616282035, 10.514996920977584, 9.556957213204244, 9.556835241413932, 9.556789460814747, 9.556596422566038, 9.556182169205027, 12.423350260797204, 8.59938734968376, 18.149507831087, 8.598376406192221, 8.597862458872484, 19.106833132673135, 7.641463891745003, 7.641451132680677, 12.409414936125136, 8.595682662275648, 32.40553823344644, 36.18212582306755, 20.026767033874957, 31.437353330260972, 22.844541406468057, 113.58616391820819, 51.241863175557995, 35.115779236855936, 51.18838667421064, 65.14518148560734, 46.35726253756698, 35.02347076375465, 24.670332547799234, 27.480211343701868, 22.748556166841013, 115.72191750878662, 21.82767410240733, 40.43408886253333, 36.66107718463807, 38.62866762715324, 59.152042634039915, 37.591291384688326, 46.96843782987227, 28.61027335047208, 34.147097786178826, 19.38722813079929, 15.695937993246353, 22.15559797242911, 15.696466201636708, 14.775621598239104, 24.009588729445912, 12.006238842835165, 8.316161206833527, 10.16279855858838, 8.31640302357869, 8.316639163975635, 8.31715657858198, 8.316598705933155, 24.048317445490113, 14.796101932533515, 7.393797137495002, 7.393864884872157, 7.3940832980486135, 7.394254373175169, 7.394329357166328, 7.394078008690008, 8.320925821555159, 8.321191208796611, 6.471307426151628, 13.87665791759924, 6.4712698567617, 7.3963353084173304, 6.471491010640605, 64.68954443283948, 61.020024833092094, 142.37207693985536, 25.87399045870343, 23.141136519651983, 20.336885150718587, 183.69275833810565, 13.86796360464969, 27.776560743236026, 38.85418512840456, 18.586318567495514, 33.305118129589495, 115.72191750878662, 32.57098951956282, 62.98355572275281, 37.028675993251724, 28.95694325271262, 21.278524881294306, 35.298799845839554, 113.58616391820819, 36.66107718463807, 60.67795160304147, 53.25048241630441, 27.11501318525584, 41.868882191002555, 32.57527719587697, 25.132789616521265, 25.130106093928585, 23.26956259755295, 21.410212884074358, 29.788156805596184, 14.89491747867311, 21.408723914646806, 42.8004598610216, 13.964604578703376, 16.76098419197126, 13.034250153002283, 16.763943809502276, 13.035003667960968, 14.90113767667722, 11.172247490225242, 11.173339921235204, 52.12842715371149, 11.173452174084632, 9.311302554423962, 9.311876814690272, 19.552831584908507, 9.311129132485787, 29.77680833979627, 8.381048663777925, 8.38203359787489, 8.382075002612641, 7.449978430230642, 6.519765345966877, 6.520342341199125, 20.505500012681114, 19.58725059496039, 104.40819783452498, 48.61041040160531, 34.370261641608465, 33.71918584918179, 17.73877147863881, 59.152042634039915, 46.96843782987227, 29.787617586459326, 183.69275833810565, 48.64551596081881, 62.98355572275281, 60.67795160304147, 41.868882191002555, 142.37207693985536, 53.25048241630441, 39.278680561014255, 115.72191750878662, 34.5556572939732], \"Category\": [\"Default\", \"Default\", \"Default\", \"Default\", \"Default\", \"Default\", \"Default\", \"Default\", \"Default\", \"Default\", \"Default\", \"Default\", \"Default\", \"Default\", \"Default\", \"Default\", \"Default\", \"Default\", \"Default\", \"Default\", \"Default\", \"Default\", \"Default\", \"Default\", \"Default\", \"Default\", \"Default\", \"Default\", \"Default\", \"Default\", \"Topic1\", \"Topic1\", \"Topic1\", \"Topic1\", \"Topic1\", \"Topic1\", \"Topic1\", \"Topic1\", \"Topic1\", \"Topic1\", \"Topic1\", \"Topic1\", \"Topic1\", \"Topic1\", \"Topic1\", \"Topic1\", \"Topic1\", \"Topic1\", \"Topic1\", \"Topic1\", \"Topic1\", \"Topic1\", \"Topic1\", \"Topic1\", \"Topic1\", \"Topic1\", \"Topic1\", \"Topic1\", \"Topic1\", \"Topic1\", \"Topic1\", \"Topic1\", \"Topic1\", \"Topic1\", \"Topic1\", \"Topic1\", \"Topic1\", \"Topic1\", \"Topic1\", \"Topic1\", \"Topic1\", \"Topic1\", \"Topic1\", \"Topic1\", \"Topic1\", \"Topic1\", \"Topic1\", \"Topic1\", \"Topic1\", \"Topic1\", \"Topic1\", \"Topic1\", \"Topic1\", \"Topic1\", \"Topic1\", \"Topic2\", \"Topic2\", \"Topic2\", \"Topic2\", \"Topic2\", \"Topic2\", \"Topic2\", \"Topic2\", \"Topic2\", \"Topic2\", \"Topic2\", \"Topic2\", \"Topic2\", \"Topic2\", \"Topic2\", \"Topic2\", \"Topic2\", \"Topic2\", \"Topic2\", \"Topic2\", \"Topic2\", \"Topic2\", \"Topic2\", \"Topic2\", \"Topic2\", \"Topic2\", \"Topic2\", \"Topic2\", \"Topic2\", \"Topic2\", \"Topic2\", \"Topic2\", \"Topic2\", \"Topic2\", \"Topic2\", \"Topic2\", \"Topic2\", \"Topic2\", \"Topic2\", \"Topic2\", \"Topic2\", \"Topic2\", \"Topic2\", \"Topic2\", \"Topic2\", \"Topic2\", \"Topic2\", \"Topic2\", \"Topic2\", \"Topic2\", \"Topic2\", \"Topic2\", \"Topic2\", \"Topic2\", \"Topic2\", \"Topic3\", \"Topic3\", \"Topic3\", \"Topic3\", \"Topic3\", \"Topic3\", \"Topic3\", \"Topic3\", \"Topic3\", \"Topic3\", \"Topic3\", \"Topic3\", \"Topic3\", \"Topic3\", \"Topic3\", \"Topic3\", \"Topic3\", \"Topic3\", \"Topic3\", \"Topic3\", \"Topic3\", \"Topic3\", \"Topic3\", \"Topic3\", \"Topic3\", \"Topic3\", \"Topic3\", \"Topic3\", \"Topic3\", \"Topic3\", \"Topic3\", \"Topic3\", \"Topic3\", \"Topic3\", \"Topic3\", \"Topic3\", \"Topic3\", \"Topic3\", \"Topic3\", \"Topic3\", \"Topic3\", \"Topic3\", \"Topic3\", \"Topic3\", \"Topic3\", \"Topic3\", \"Topic3\", \"Topic3\", \"Topic3\", \"Topic3\"], \"logprob\": [30.0, 29.0, 28.0, 27.0, 26.0, 25.0, 24.0, 23.0, 22.0, 21.0, 20.0, 19.0, 18.0, 17.0, 16.0, 15.0, 14.0, 13.0, 12.0, 11.0, 10.0, 9.0, 8.0, 7.0, 6.0, 5.0, 4.0, 3.0, 2.0, 1.0, -3.1318, -3.9446, -4.3888, -4.8934, -5.045, -4.9449, -5.1613, -5.1614, -5.2906, -5.1147, -5.4419, -4.7495, -5.4438, -5.6179, -5.531, -5.5317, -5.6187, -5.7211, -5.7216, -5.7217, -5.7221, -5.7235, -5.4632, -5.8338, -5.09, -5.8371, -5.8392, -5.0414, -5.9616, -5.9618, -5.4917, -5.8496, -4.6066, -4.5097, -5.0688, -4.6643, -4.9646, -3.5757, -4.2632, -4.6359, -4.3729, -4.3102, -4.5833, -4.7911, -5.0885, -5.0509, -5.1602, -4.4699, -5.1962, -4.9647, -5.0013, -4.9926, -4.876, -5.055, -5.0891, -4.4774, -4.3055, -4.8797, -5.0971, -4.7537, -5.0989, -5.1675, -4.6838, -5.3813, -5.7691, -5.5689, -5.77, -5.7708, -5.774, -5.7752, -4.7169, -5.2027, -5.8969, -5.899, -5.8997, -5.9003, -5.9025, -5.9051, -5.7875, -5.7896, -6.0433, -5.281, -6.0443, -5.9134, -6.0504, -3.8387, -3.9105, -3.1243, -4.7339, -4.8758, -5.0063, -3.0968, -5.3497, -4.7612, -4.5103, -5.1292, -4.6596, -3.6619, -4.6901, -4.2683, -4.6703, -4.8668, -5.0935, -4.7974, -4.4376, -4.9531, -4.7966, -4.866, -5.0977, -5.0674, -4.3141, -4.5818, -4.5825, -4.6621, -4.7477, -4.4207, -5.1207, -4.7596, -4.069, -5.1897, -5.0095, -5.2616, -5.0166, -5.2697, -5.136, -5.4281, -5.4288, -3.8893, -5.4301, -5.6185, -5.6197, -4.8801, -5.6229, -4.4643, -5.7327, -5.7365, -5.7368, -5.8665, -6.0062, -6.0067, -4.8611, -4.9145, -3.3061, -4.0958, -4.5118, -4.5399, -5.161, -4.3432, -4.5226, -4.8375, -3.7212, -4.5528, -4.4383, -4.4687, -4.6965, -4.2639, -4.7278, -4.8981, -4.7151, -4.9625], \"loglift\": [30.0, 29.0, 28.0, 27.0, 26.0, 25.0, 24.0, 23.0, 22.0, 21.0, 20.0, 19.0, 18.0, 17.0, 16.0, 15.0, 14.0, 13.0, 12.0, 11.0, 10.0, 9.0, 8.0, 7.0, 6.0, 5.0, 4.0, 3.0, 2.0, 1.0, 1.015, 1.0055, 1.0031, 0.9914, 0.9866, 0.9866, 0.9817, 0.9816, 0.9777, 0.9714, 0.9697, 0.9689, 0.9679, 0.9611, 0.961, 0.9603, 0.9603, 0.9534, 0.953, 0.9529, 0.9525, 0.9511, 0.9491, 0.9463, 0.9432, 0.9432, 0.9411, 0.9404, 0.9366, 0.9364, 0.9216, 0.9309, 0.8469, 0.8335, 0.8659, 0.8195, 0.8385, 0.6235, 0.7321, 0.7373, 0.6234, 0.445, 0.5121, 0.5847, 0.6377, 0.5674, 0.6472, -0.2893, 0.6525, 0.2675, 0.3288, 0.2852, -0.0243, 0.2501, -0.0068, 1.1007, 1.0957, 1.0875, 1.0814, 1.08, 1.0795, 1.0714, 1.0696, 1.0651, 1.0445, 1.0442, 1.0436, 1.0427, 1.0395, 1.0383, 1.0349, 1.0348, 1.0342, 1.0322, 1.0314, 1.0308, 1.0286, 1.026, 1.0255, 1.0234, 1.0211, 1.0206, 1.0202, 1.0175, 1.014, 0.9235, 0.9102, 0.8491, 0.9447, 0.9144, 0.913, 0.6218, 0.9525, 0.8465, 0.7617, 0.8802, 0.7665, 0.5188, 0.7583, 0.5207, 0.6498, 0.6992, 0.7806, 0.5706, -0.2384, 0.377, 0.0296, 0.0909, 0.534, 0.1299, 1.1341, 1.1259, 1.1252, 1.1226, 1.1203, 1.117, 1.1101, 1.1084, 1.1062, 1.1056, 1.1032, 1.1027, 1.096, 1.0945, 1.0944, 1.0903, 1.0895, 1.0888, 1.0882, 1.0821, 1.0808, 1.0786, 1.0777, 1.0738, 1.0731, 1.0692, 1.0689, 1.0571, 1.0507, 1.0502, 1.0501, 1.0425, 0.9774, 0.9521, 0.8829, 0.8738, 0.8951, 0.5085, 0.5598, 0.7002, -0.0027, 0.4944, 0.3507, 0.3575, 0.5008, -0.2905, 0.229, 0.363, -0.5345, 0.4267]}, \"token.table\": {\"Topic\": [1, 2, 3, 1, 2, 3, 1, 2, 3, 1, 2, 3, 2, 3, 2, 3, 2, 3, 1, 2, 3, 1, 2, 3, 1, 2, 3, 1, 2, 3, 1, 2, 3, 2, 1, 3, 3, 3, 2, 2, 3, 2, 3, 3, 1, 2, 3, 1, 2, 3, 2, 3, 2, 3, 3, 2, 1, 2, 3, 1, 3, 1, 2, 2, 1, 2, 3, 1, 2, 3, 1, 2, 2, 1, 1, 2, 3, 3, 2, 1, 1, 3, 2, 3, 1, 1, 2, 3, 1, 3, 1, 2, 3, 1, 2, 3, 1, 2, 3, 1, 2, 3, 1, 2, 3, 1, 2, 3, 1, 2, 1, 1, 2, 3, 1, 2, 1, 1, 3, 1, 1, 3, 1, 1, 3, 1, 2, 3, 1, 3, 2, 3, 1, 2, 3, 1, 2, 3, 1, 2, 1, 2, 1, 2, 3, 2, 1, 2, 3, 1, 3, 1, 1, 3, 1, 1, 2, 3, 1, 2, 3, 2, 1, 1, 3, 3, 1, 3, 2, 1, 3, 1, 2, 3, 3, 2, 1, 2, 3, 1, 2, 3, 3, 2, 3, 1, 1, 2, 3, 3, 2, 2, 3, 1, 2, 1, 2, 3, 1, 2, 1, 2, 3, 2, 2, 3, 2, 1, 2, 3, 2, 3, 1, 2, 3, 1, 2, 3, 2, 3, 3, 3, 1, 2, 3, 1, 2, 3, 1, 1, 2, 3, 1, 2, 3, 1, 1, 2, 3, 2, 3, 1, 2, 3, 2, 1, 2, 1, 2, 2, 1, 2, 3, 1, 2, 3, 1, 3, 1, 3, 2, 1, 3, 2, 3, 1, 1, 2, 3, 1, 1], \"Freq\": [0.6567024768945061, 0.17131368962465376, 0.19986597122876273, 0.4699005352784296, 0.34624249967884285, 0.19785285695933877, 0.24412924371967037, 0.35680427928259517, 0.39436262447023673, 0.08165809112839896, 0.6042698743501523, 0.3157446190298093, 0.8502747202876737, 0.15459540368866795, 0.5398234445458198, 0.4445604837436163, 0.6949058360321011, 0.28310978505011525, 0.21424586124869083, 0.3296090173056782, 0.44497217336266554, 0.01545844863752592, 0.8192977777888738, 0.1700429350127851, 0.8317085321143922, 0.1313223998075356, 0.9823400675175288, 0.36194518671404213, 0.0851635733444805, 0.5535632267391233, 0.007023849209016223, 0.7585757145737522, 0.2388108731065516, 0.9619543421979883, 0.9838995593359584, 0.9544223256308889, 0.9396000358330284, 0.955029792166233, 0.9556291083171264, 0.7049360838535531, 0.28197443354142127, 0.6905845495130057, 0.30025415196217636, 0.9549278200388621, 0.33191944029346343, 0.5531990671557724, 0.11063981343115448, 0.941738858735172, 0.7867478171520604, 0.1966869542880151, 0.9161903360405288, 0.9665076309645484, 0.9614314766845045, 0.9545344885748271, 0.8949785477395874, 0.9466713831479311, 0.21521206501837095, 0.8070452438188911, 0.9206513500307453, 0.618626974420857, 0.36389822024756296, 0.9589553496428149, 0.9800266377335229, 0.9271433723904791, 0.25459103659213594, 0.28005014025134956, 0.4582638658658447, 0.2466825515771138, 0.226125672279021, 0.5139219824523205, 0.9417343474751012, 0.9467308517257322, 0.9614008138093175, 0.9304638261274434, 0.07206346124103397, 0.9368249961334416, 0.8949875391327491, 0.9884156568726694, 0.9475066688002122, 0.9160548422615763, 0.06710896991208717, 0.9395255787692204, 0.04670993021288152, 0.9341986042576305, 0.9901989832167165, 0.23151057240619377, 0.28938821550774224, 0.49195996636316175, 0.9417987058684028, 0.9399179297264001, 0.0191833909941555, 0.038366781988311, 0.9399861587136195, 0.1691210692697985, 0.11274737951319899, 0.7892316565923929, 0.7404078897019484, 0.22781781221598413, 0.028477226526998016, 0.687201024242234, 0.04581340161614893, 0.27488040969689354, 0.9420713456286786, 0.052337296979371034, 0.052337296979371034, 0.10071298892207216, 0.2685679704588591, 0.6378489298397904, 0.08316590150364424, 0.9148249165400866, 0.9160563718143347, 0.21491517768582538, 0.7061498695391405, 0.0921065047224966, 0.9456590784592785, 0.9619270287272784, 0.9838951613946872, 0.9509905775591522, 0.9205981299027228, 0.9306997843359256, 0.9940802362201764, 0.00835361543042165, 0.9866019140437029, 0.05966236758811655, 0.9545978814098648, 0.6642131586680702, 0.09767840568648091, 0.23442817364755417, 0.2372536524393611, 0.7414176638730035, 0.04672846989247891, 0.9579336327958177, 0.4909839367061059, 0.46370705133354445, 0.02727688537256144, 0.04165002621530026, 0.957950602951906, 0.04165002621530026, 0.9886088111937121, 0.01865299643761721, 0.06758536840038999, 0.9461951576054599, 0.5679621908517438, 0.18420395378975474, 0.24560527171967297, 0.961931708246631, 0.8291386787692226, 0.11055182383589635, 0.05527591191794817, 0.9652714231522461, 0.04021964263134359, 0.930298831148035, 0.929501415553932, 0.05809383847212075, 0.9417578813674977, 0.8331909134017323, 0.030858922718582676, 0.1234356908743307, 0.16457380083620543, 0.02057172510452568, 0.822869004181027, 0.9467028863263393, 0.9510226275054673, 0.6890867793152841, 0.3242761314424866, 0.9309250345566934, 0.8270416318721372, 0.15904646766771868, 0.9786694330740461, 0.059651834399085245, 0.9544293503853639, 0.033570388612031675, 0.033570388612031675, 0.9735412697489186, 0.9808403173618377, 0.9271696745163124, 0.45223240207503046, 0.3724266840617898, 0.15961143602648134, 0.3550173259429462, 0.11833910864764874, 0.5240731954395873, 0.9202785194886801, 0.9664071660390676, 0.029285065637547503, 0.9417223284797455, 0.26788356663417895, 0.544408538643654, 0.181469512881218, 0.966567238836412, 0.9467035635508766, 0.9618671867500116, 0.9201970826115502, 0.8864237400892947, 0.08058397637175407, 0.08620012783157092, 0.07662233585028526, 0.8332679023718522, 0.34534031830390877, 0.6561466047774267, 0.7415811534762017, 0.23418352215037946, 0.019515293512531624, 0.9467395263662293, 0.6211402212758464, 0.37808535208095, 0.9556612676766562, 0.11331830026712522, 0.5665915013356261, 0.31162532573459434, 0.9478417159461388, 0.045135319806958986, 0.0720031546917495, 0.7560331242633698, 0.18000788672937376, 0.016388062816023057, 0.8030150779851297, 0.16388062816023055, 0.9619823138380564, 0.9544176110934881, 0.9665852413752611, 0.8950750517072901, 0.051143487614951466, 0.051143487614951466, 0.9205827770691263, 0.04876740383709614, 0.04876740383709614, 0.8778132690677306, 0.9589392344630069, 0.6690955780030263, 0.25531278634326005, 0.07043111347400277, 0.6040046039670564, 0.08628637199529375, 0.32357389498235156, 0.9500417115890265, 0.03358318287804925, 0.0671663657560985, 0.9067459377073296, 0.23275935701098185, 0.756467910285691, 0.11942043203327933, 0.358261296099838, 0.5254499009464291, 0.8855828390295386, 0.936664517749727, 0.05509791280880748, 0.9654301100189515, 0.9464146375345794, 0.9466809831961635, 0.08642617869271693, 0.8210486975808109, 0.1296392680390754, 0.703341340991218, 0.1318765014358534, 0.1758353352478045, 0.8488639215328551, 0.14979951556462148, 0.9659230198046402, 0.08049358498372003, 0.9271750572618634, 0.10210723502534759, 0.9189651152281283, 0.8653036842393073, 0.1442172807065512, 0.9758187901466944, 0.4659751709206575, 0.1553250569735525, 0.36242513293828915, 0.9304082098846832, 0.9653552902995094], \"Term\": [\"amazon\", \"amazon\", \"amazon\", \"as\\u00ed\", \"as\\u00ed\", \"as\\u00ed\", \"bastante\", \"bastante\", \"bastante\", \"bien\", \"bien\", \"bien\", \"bonita\", \"bonita\", \"bonito\", \"bonito\", \"bonitos\", \"bonitos\", \"buen\", \"buen\", \"buen\", \"buena\", \"buena\", \"buena\", \"cable\", \"cable\", \"cadena\", \"caja\", \"caja\", \"caja\", \"calidad\", \"calidad\", \"calidad\", \"cargar\", \"caso\", \"castellano\", \"cierra\", \"colgante\", \"collar\", \"color\", \"color\", \"compra\", \"compra\", \"comprar\", \"compr\\u00e9\", \"compr\\u00e9\", \"compr\\u00e9\", \"conectar\", \"consola\", \"consola\", \"contenta\", \"contento\", \"correctamente\", \"corresponde\", \"cuidado\", \"c\\u00f3modos\", \"dentro\", \"dentro\", \"descripci\\u00f3n\", \"despu\\u00e9s\", \"despu\\u00e9s\", \"devolver\", \"dise\\u00f1o\", \"dorado\", \"dos\", \"dos\", \"dos\", \"d\\u00eda\", \"d\\u00eda\", \"d\\u00eda\", \"edici\\u00f3n\", \"elegantes\", \"embalaje\", \"encanta\", \"encantado\", \"encantado\", \"encant\\u00f3\", \"entrega\", \"entregado\", \"entretenido\", \"envio\", \"envio\", \"env\\u00edo\", \"env\\u00edo\", \"espa\\u00f1ol\", \"esperaba\", \"esperaba\", \"esperaba\", \"esperando\", \"fina\", \"foto\", \"foto\", \"foto\", \"fotos\", \"fotos\", \"fotos\", \"funciona\", \"funciona\", \"funciona\", \"gracias\", \"gracias\", \"gracias\", \"gran\", \"gran\", \"gran\", \"grande\", \"grande\", \"grande\", \"grandes\", \"grandes\", \"gr\\u00e1ficos\", \"gustado\", \"gustado\", \"gustado\", \"hacer\", \"hija\", \"hijo\", \"historia\", \"imagen\", \"italiano\", \"juego\", \"juego\", \"jugar\", \"llega\", \"llega\", \"llegado\", \"llegado\", \"llegado\", \"llego\", \"llego\", \"lleg\\u00f3\", \"lleg\\u00f3\", \"mal\", \"mal\", \"mal\", \"mala\", \"mala\", \"mala\", \"mando\", \"mando\", \"mandos\", \"mandos\", \"mas\", \"mas\", \"mas\", \"materiales\", \"mejor\", \"mejor\", \"mejor\", \"menos\", \"menos\", \"modo\", \"nintendo\", \"nintendo\", \"normal\", \"original\", \"original\", \"original\", \"parece\", \"parece\", \"parece\", \"parecido\", \"pc\", \"pedido\", \"pedido\", \"ped\\u00ed\", \"pena\", \"pena\", \"pendientes\", \"peque\\u00f1a\", \"peque\\u00f1a\", \"peque\\u00f1o\", \"peque\\u00f1o\", \"peque\\u00f1o\", \"peque\\u00f1os\", \"perdi\\u00f3\", \"perfectamente\", \"perfectamente\", \"perfectamente\", \"perfecto\", \"perfecto\", \"perfecto\", \"piedras\", \"plata\", \"plata\", \"poder\", \"precio\", \"precio\", \"precio\", \"preciosa\", \"precioso\", \"presentaci\\u00f3n\", \"prime\", \"problemas\", \"problemas\", \"producto\", \"producto\", \"producto\", \"ps\", \"ps\", \"puede\", \"puede\", \"puede\", \"puestos\", \"pulsera\", \"pulsera\", \"q\", \"queda\", \"queda\", \"queda\", \"quedan\", \"quedan\", \"recomiendo\", \"recomiendo\", \"recomiendo\", \"regalo\", \"regalo\", \"regalo\", \"relaci\\u00f3n\", \"resulta\", \"rompi\\u00f3\", \"rota\", \"roto\", \"roto\", \"roto\", \"r\\u00e1pido\", \"r\\u00e1pido\", \"r\\u00e1pido\", \"saga\", \"si\", \"si\", \"si\", \"solo\", \"solo\", \"solo\", \"switch\", \"tal\", \"tal\", \"tal\", \"tama\\u00f1o\", \"tama\\u00f1o\", \"tiempo\", \"tiempo\", \"tiempo\", \"toda\", \"todas\", \"todas\", \"todav\\u00eda\", \"transporte\", \"usb\", \"uso\", \"uso\", \"uso\", \"va\", \"va\", \"va\", \"vale\", \"vale\", \"veces\", \"veces\", \"ven\", \"vendedor\", \"vendedor\", \"ven\\u00eda\", \"ven\\u00eda\", \"versi\\u00f3n\", \"viene\", \"viene\", \"viene\", \"voy\", \"xbox\"]}, \"R\": 30, \"lambda.step\": 0.01, \"plot.opts\": {\"xlab\": \"PC1\", \"ylab\": \"PC2\"}, \"topic.order\": [1, 2, 3]};\n",
       "\n",
       "function LDAvis_load_lib(url, callback){\n",
       "  var s = document.createElement('script');\n",
       "  s.src = url;\n",
       "  s.async = true;\n",
       "  s.onreadystatechange = s.onload = callback;\n",
       "  s.onerror = function(){console.warn(\"failed to load library \" + url);};\n",
       "  document.getElementsByTagName(\"head\")[0].appendChild(s);\n",
       "}\n",
       "\n",
       "if(typeof(LDAvis) !== \"undefined\"){\n",
       "   // already loaded: just create the visualization\n",
       "   !function(LDAvis){\n",
       "       new LDAvis(\"#\" + \"ldavis_el1188815561682482242937611523\", ldavis_el1188815561682482242937611523_data);\n",
       "   }(LDAvis);\n",
       "}else if(typeof define === \"function\" && define.amd){\n",
       "   // require.js is available: use it to load d3/LDAvis\n",
       "   require.config({paths: {d3: \"https://d3js.org/d3.v5\"}});\n",
       "   require([\"d3\"], function(d3){\n",
       "      window.d3 = d3;\n",
       "      LDAvis_load_lib(\"https://cdn.jsdelivr.net/gh/bmabey/pyLDAvis@3.3.1/pyLDAvis/js/ldavis.v3.0.0.js\", function(){\n",
       "        new LDAvis(\"#\" + \"ldavis_el1188815561682482242937611523\", ldavis_el1188815561682482242937611523_data);\n",
       "      });\n",
       "    });\n",
       "}else{\n",
       "    // require.js not available: dynamically load d3 & LDAvis\n",
       "    LDAvis_load_lib(\"https://d3js.org/d3.v5.js\", function(){\n",
       "         LDAvis_load_lib(\"https://cdn.jsdelivr.net/gh/bmabey/pyLDAvis@3.3.1/pyLDAvis/js/ldavis.v3.0.0.js\", function(){\n",
       "                 new LDAvis(\"#\" + \"ldavis_el1188815561682482242937611523\", ldavis_el1188815561682482242937611523_data);\n",
       "            })\n",
       "         });\n",
       "}\n",
       "</script>"
      ],
      "text/plain": [
       "<IPython.core.display.HTML object>"
      ]
     },
     "execution_count": 17,
     "metadata": {},
     "output_type": "execute_result"
    }
   ],
   "source": [
    "lda_display = pyLDAvis.gensim_models.prepare(model, corpus, dictionary)\n",
    "pyLDAvis.display(lda_display)"
   ]
  },
  {
   "cell_type": "markdown",
   "metadata": {},
   "source": [
    "###  `[3 pts]` Preguntas\n",
    "\n",
    "- ¿Qué conclusiones puede sacar de los resultados de los últimos tres talleres, usando diferentes modelos pero los mismos datos?"
   ]
  },
  {
   "cell_type": "markdown",
   "metadata": {},
   "source": [
    "El modelo supervisado en mi percepción tiene mejores resultados, para este taller en especifico, la visualización en LDA permrite tomar mejores decisiones en cuanto a la cantidad de Etiquetas que se desean tener. "
   ]
  }
 ],
 "metadata": {
  "kernelspec": {
   "display_name": "Python 3",
   "language": "python",
   "name": "python3"
  },
  "language_info": {
   "codemirror_mode": {
    "name": "ipython",
    "version": 3
   },
   "file_extension": ".py",
   "mimetype": "text/x-python",
   "name": "python",
   "nbconvert_exporter": "python",
   "pygments_lexer": "ipython3",
   "version": "3.8.8"
  }
 },
 "nbformat": 4,
 "nbformat_minor": 2
}
