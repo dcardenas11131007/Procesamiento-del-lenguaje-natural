{
  "nbformat": 4,
  "nbformat_minor": 0,
  "metadata": {
    "colab": {
      "name": "Taller3.ipynb",
      "provenance": [],
      "collapsed_sections": []
    },
    "kernelspec": {
      "name": "python3",
      "display_name": "Python 3"
    }
  },
  "cells": [
    {
      "cell_type": "code",
      "metadata": {
        "colab": {
          "base_uri": "https://localhost:8080/"
        },
        "id": "bv_jfu9sCvsQ",
        "outputId": "6af0db2c-de54-44b9-cf69-1ac1310b0429"
      },
      "source": [
        "pip install beautifulsoup4"
      ],
      "execution_count": 4,
      "outputs": [
        {
          "output_type": "stream",
          "text": [
            "Requirement already satisfied: beautifulsoup4 in /usr/local/lib/python3.7/dist-packages (4.6.3)\n"
          ],
          "name": "stdout"
        }
      ]
    },
    {
      "cell_type": "code",
      "metadata": {
        "id": "p9ck7GAdGfQP"
      },
      "source": [
        "import bs4 as bs"
      ],
      "execution_count": 5,
      "outputs": []
    },
    {
      "cell_type": "code",
      "metadata": {
        "id": "F1MwRg_0WsOe"
      },
      "source": [
        "import urllib.request\r\n",
        "import re\r\n",
        "from unicodedata import normalize"
      ],
      "execution_count": 76,
      "outputs": []
    },
    {
      "cell_type": "code",
      "metadata": {
        "id": "RpGP2XfAGiAl"
      },
      "source": [
        "enlace0 = \"https://es.wikipedia.org/wiki/Felis_silvestris_catus\"\r\n",
        "enlace1 = \"https://es.wikipedia.org/wiki/Canis_familiaris\"\r\n",
        "enlace2 = \"https://es.wikipedia.org/wiki/Delphinidae\"\r\n",
        "enlace3 = \"https://es.wikipedia.org/wiki/Orcinus_orca\"\r\n",
        "enlace4 = \"https://es.wikipedia.org/wiki/Ornithorhynchus_anatinus\"\r\n",
        "enlace5 = \"https://es.wikipedia.org/wiki/Equus_ferus_caballus\"\r\n",
        "enlace6 = \"https://es.wikipedia.org/wiki/Giraffa_camelopardalis\"\r\n",
        "enlace7 = \"https://es.wikipedia.org/wiki/Panthera_leo\"\r\n",
        "enlace8 = \"https://es.wikipedia.org/wiki/%C3%81guila\"\r\n",
        "enlace9 = \"https://es.wikipedia.org/wiki/Antilope_cervicapra\"\r\n",
        "TodoslasURL = [enlace0, enlace1, enlace2, enlace3, enlace4, enlace5, enlace6, enlace7, enlace8, enlace9]"
      ],
      "execution_count": 89,
      "outputs": []
    },
    {
      "cell_type": "code",
      "metadata": {
        "id": "qsSWZzsDqBrq"
      },
      "source": [
        "def paginaPython(datUrl):\r\n",
        "    request = urllib.request.Request(datUrl, headers={'User-Agent': 'Mozilla/5.0'})\r\n",
        "    webpage = urllib.request.urlopen(request)\r\n",
        "    source = webpage.read()\r\n",
        "    webpage.close()\r\n",
        "    soup = bs.BeautifulSoup(source, 'html.parser')\r\n",
        "    return soup;"
      ],
      "execution_count": 91,
      "outputs": []
    },
    {
      "cell_type": "code",
      "metadata": {
        "id": "ycX1GvE6Aerr"
      },
      "source": [
        "def recorrerUrlTitulo(datoUrl):\r\n",
        "  datopagina = paginaPython(datoUrl)\r\n",
        "  titulo = datopagina.findAll('h1')\r\n",
        "  for dato in titulo:\r\n",
        "    header_append = dato.find(text=True)\r\n",
        "  return header_append\r\n",
        "\r\n",
        "#def textoRegex(datoUrlda):\r\n",
        " # replacements = (\r\n",
        "  #    (\"á\", \"*\"),\r\n",
        "   #   (\"é\", \"*\"),\r\n",
        "    #  (\"í\", \"*\"),\r\n",
        "     # (\"ó\", \"*\"),\r\n",
        "      #(\"ú\", \"*\"),\r\n",
        " # )\r\n",
        "  #for a, b in replacements:\r\n",
        "   #   si = datoUrlda.replace(a, b)\r\n",
        "    #  return si\r\n",
        "\r\n",
        "\r\n",
        "def recorrerDiv(datoUrl):\r\n",
        "  datopagina = paginaPython(datoUrl)\r\n",
        "  job_elems = datopagina.find('div', class_='mw-parser-output')\r\n",
        "  parrafotexto = job_elems.find_all(\"p\")[0]\r\n",
        "  datos = parrafotexto.find_all(\"b\") #no me trae todas \r\n",
        "  for dates in datos:\r\n",
        "    negrilla = dates.text\r\n",
        "    getEncab = textoRegex(negrilla)\r\n",
        "    return getEncab\r\n",
        "\r\n",
        "def funcionAgrupa(TodoslasURL_):\r\n",
        "  titulos=[]\r\n",
        "  for encabezados in TodoslasURL:\r\n",
        "    getEncabezados = recorrerUrlTitulo(encabezados)\r\n",
        "    titulos.append(\"Encabezados: \" + getEncabezados)\r\n",
        "    datneg = recorrerDiv(encabezados)\r\n",
        "    titulos.append(datneg)\r\n",
        "  return titulos"
      ],
      "execution_count": 146,
      "outputs": []
    },
    {
      "cell_type": "code",
      "metadata": {
        "colab": {
          "base_uri": "https://localhost:8080/"
        },
        "id": "LDy6YWLwAlRo",
        "outputId": "64262000-2292-4c58-a1b2-8a8e7a698618"
      },
      "source": [
        "Final_Taller = funcionAgrupa(TodoslasURL)\r\n",
        "Final_Taller"
      ],
      "execution_count": 147,
      "outputs": [
        {
          "output_type": "execute_result",
          "data": {
            "text/plain": [
              "['Encabezados: Felis silvestris catus',\n",
              " 'gato doméstico',\n",
              " 'Encabezados: Canis familiaris',\n",
              " 'perro',\n",
              " 'Encabezados: Delphinidae',\n",
              " 'delfines',\n",
              " 'Encabezados: Orcinus orca',\n",
              " 'orca',\n",
              " 'Encabezados: Ornithorhynchus anatinus',\n",
              " None,\n",
              " 'Encabezados: Equus ferus caballus',\n",
              " 'caballo',\n",
              " 'Encabezados: Giraffa camelopardalis',\n",
              " None,\n",
              " 'Encabezados: Panthera leo',\n",
              " 'león',\n",
              " 'Encabezados: Águila',\n",
              " 'Águila',\n",
              " 'Encabezados: Antilope cervicapra',\n",
              " 'antílope indio']"
            ]
          },
          "metadata": {
            "tags": []
          },
          "execution_count": 147
        }
      ]
    },
    {
      "cell_type": "code",
      "metadata": {
        "id": "K2Ahp4kSUQ1s"
      },
      "source": [
        "#Descargar la pagina web en Phyton\r\n",
        "request = urllib.request.Request(link, headers={'User-Agent': 'Mozilla/5.0'})\r\n",
        "webpage = urllib.request.urlopen(request)\r\n",
        "source = webpage.read()\r\n",
        "webpage.close()\r\n",
        "soup1 = bs.BeautifulSoup(source, 'html.parser')\r\n",
        "#enlace 1\r\n",
        "request = urllib.request.Request(enlace1, headers={'User-Agent': 'Mozilla/5.0'})\r\n",
        "webpage = urllib.request.urlopen(request)\r\n",
        "source = webpage.read()\r\n",
        "webpage.close()\r\n",
        "soup2 = bs.BeautifulSoup(source, 'html.parser')\r\n",
        "#enlace 2\r\n",
        "request = urllib.request.Request(enlace2, headers={'User-Agent': 'Mozilla/5.0'})\r\n",
        "webpage = urllib.request.urlopen(request)\r\n",
        "source = webpage.read()\r\n",
        "webpage.close()\r\n",
        "soup3 = bs.BeautifulSoup(source, 'html.parser')\r\n",
        "#enlace3\r\n",
        "request = urllib.request.Request(enlace3, headers={'User-Agent': 'Mozilla/5.0'})\r\n",
        "webpage = urllib.request.urlopen(request)\r\n",
        "source = webpage.read()\r\n",
        "webpage.close()\r\n",
        "soup4 = bs.BeautifulSoup(source, 'html.parser')\r\n",
        "#enlace4\r\n",
        "request = urllib.request.Request(enlace4, headers={'User-Agent': 'Mozilla/5.0'})\r\n",
        "webpage = urllib.request.urlopen(request)\r\n",
        "source = webpage.read()\r\n",
        "webpage.close()\r\n",
        "soup4 = bs.BeautifulSoup(source, 'html.parser')\r\n",
        "#enlace5\r\n",
        "request = urllib.request.Request(enlace5, headers={'User-Agent': 'Mozilla/5.0'})\r\n",
        "webpage = urllib.request.urlopen(request)\r\n",
        "source = webpage.read()\r\n",
        "webpage.close()\r\n",
        "soup5 = bs.BeautifulSoup(source, 'html.parser')\r\n",
        "#enlace6\r\n",
        "request = urllib.request.Request(enlace6, headers={'User-Agent': 'Mozilla/5.0'})\r\n",
        "webpage = urllib.request.urlopen(request)\r\n",
        "source = webpage.read()\r\n",
        "webpage.close()\r\n",
        "soup6 = bs.BeautifulSoup(source, 'html.parser')\r\n",
        "#"
      ],
      "execution_count": 56,
      "outputs": []
    },
    {
      "cell_type": "code",
      "metadata": {
        "colab": {
          "base_uri": "https://localhost:8080/"
        },
        "id": "LTSZZVsLRrv5",
        "outputId": "d9a70946-fde1-4869-cb1a-b5e367ed29b3"
      },
      "source": [
        "print(soup1.select('h1#firstHeading')[0].text.strip())\r\n",
        "print(soup2.select('h1#firstHeading')[0].text.strip())\r\n",
        "print(soup3.select('h1#firstHeading')[0].text.strip())\r\n",
        "print(soup4.select('h1#firstHeading')[0].text.strip())\r\n",
        "print(soup5.select('h1#firstHeading')[0].text.strip())\r\n",
        "print(soup6.select('h1#firstHeading')[0].text.strip())\r\n"
      ],
      "execution_count": 141,
      "outputs": [
        {
          "output_type": "stream",
          "text": [
            "Felis silvestris catus\n",
            "Canis familiaris\n",
            "Delphinidae\n",
            "Ornithorhynchus anatinus\n",
            "Equus ferus caballus\n",
            "Giraffa camelopardalis\n"
          ],
          "name": "stdout"
        }
      ]
    },
    {
      "cell_type": "code",
      "metadata": {
        "id": "aeA-E9SckGkR"
      },
      "source": [
        "from idna import unicode\r\n",
        "Parrafo1 = soup1.find_all('p')[0].getText()\r\n",
        "\r\n"
      ],
      "execution_count": 148,
      "outputs": []
    },
    {
      "cell_type": "code",
      "metadata": {
        "colab": {
          "base_uri": "https://localhost:8080/",
          "height": 69
        },
        "id": "cP0fo2aNlg2p",
        "outputId": "f5e297b4-eeb8-49b6-a91b-81e13bc9243a"
      },
      "source": [
        "Parrafo1"
      ],
      "execution_count": 149,
      "outputs": [
        {
          "output_type": "execute_result",
          "data": {
            "application/vnd.google.colaboratory.intrinsic+json": {
              "type": "string"
            },
            "text/plain": [
              "'El gato doméstico[1]\\u200b[2]\\u200b (Felis silvestris catus), llamado popularmente gato, y de forma coloquial minino,[3]\\u200b michino,[4]\\u200b michi,[5]\\u200b micho,[6]\\u200b mizo,[7]\\u200b miz,[8]\\u200b morroño[9]\\u200b o morrongo,[10]\\u200b entre otros nombres, es un mamífero carnívoro de la familia Felidae. Es una subespecie domesticada por la convivencia con el ser humano. \\n'"
            ]
          },
          "metadata": {
            "tags": []
          },
          "execution_count": 149
        }
      ]
    }
  ]
}