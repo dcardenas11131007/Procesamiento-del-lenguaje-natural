{
 "cells": [
  {
   "cell_type": "markdown",
   "metadata": {},
   "source": [
    "<img src='https://encrypted-tbn0.gstatic.com/images?q=tbn%3AANd9GcQ-VfNtOyJbsaxu43Kztf_cv1mgBG6ZIQZEVw&usqp=CAU'>\n",
    "\n",
    "# Procesamiento de Lenguage Natural\n",
    "\n",
    "## Taller #11: Twitter\n",
    "# Daniel Alejandro Cárdenas Niño"
   ]
  },
  {
   "cell_type": "markdown",
   "metadata": {},
   "source": [
    "###  `[25 pts]` Punto 1: Extraer Tuits\n",
    "Extraer mínimo 100 tuits de Twitter usando la API\n",
    "\n",
    "❌ No escoger un tema de los que hicimos en clase (día de las madres, Giro de Italia, #EraGoldeYepes)"
   ]
  },
  {
   "cell_type": "code",
   "execution_count": 2,
   "metadata": {},
   "outputs": [],
   "source": [
    "import pandas as pd\n",
    "import tweepy"
   ]
  },
  {
   "cell_type": "code",
   "execution_count": 3,
   "metadata": {},
   "outputs": [
    {
     "data": {
      "text/plain": [
       "dict_keys(['api_key', 'api_secret_key', 'access_token', 'access_token_secret', 'bearer_token'])"
      ]
     },
     "execution_count": 3,
     "metadata": {},
     "output_type": "execute_result"
    }
   ],
   "source": [
    "# Leer las llaves\n",
    "keys = pd.read_csv('C:/Users/dcard/OneDrive/Escritorio/NPL/dani.csv', header=None)\n",
    "keys = dict(zip(keys[0],keys[1]))\n",
    "keys.keys()"
   ]
  },
  {
   "cell_type": "code",
   "execution_count": 4,
   "metadata": {},
   "outputs": [],
   "source": [
    "auth = tweepy.OAuthHandler(keys['api_key'], keys['api_secret_key'])\n",
    "auth.set_access_token(keys['access_token'], keys['access_token_secret'])\n",
    "api = tweepy.API(auth, wait_on_rate_limit=True)"
   ]
  },
  {
   "cell_type": "code",
   "execution_count": 5,
   "metadata": {},
   "outputs": [],
   "source": [
    "tweets = tweepy.Cursor(api.search,\n",
    "                       q=['Copa america colombia -RT'],\n",
    "                       lang='es',\n",
    "                       geocode='4.7110,-74.0721,10000km',\n",
    "                       tweet_mode='extended',\n",
    "                       include_rts=False,\n",
    "                       ).items(100)"
   ]
  },
  {
   "cell_type": "code",
   "execution_count": 6,
   "metadata": {},
   "outputs": [],
   "source": [
    "# Objeto generador\n",
    "t = [tweet for tweet in tweets]"
   ]
  },
  {
   "cell_type": "code",
   "execution_count": 7,
   "metadata": {},
   "outputs": [
    {
     "data": {
      "text/html": [
       "<div>\n",
       "<style scoped>\n",
       "    .dataframe tbody tr th:only-of-type {\n",
       "        vertical-align: middle;\n",
       "    }\n",
       "\n",
       "    .dataframe tbody tr th {\n",
       "        vertical-align: top;\n",
       "    }\n",
       "\n",
       "    .dataframe thead th {\n",
       "        text-align: right;\n",
       "    }\n",
       "</style>\n",
       "<table border=\"1\" class=\"dataframe\">\n",
       "  <thead>\n",
       "    <tr style=\"text-align: right;\">\n",
       "      <th></th>\n",
       "      <th>tweets</th>\n",
       "      <th>date</th>\n",
       "      <th>city</th>\n",
       "      <th>user_location</th>\n",
       "      <th>id</th>\n",
       "      <th>link</th>\n",
       "    </tr>\n",
       "  </thead>\n",
       "  <tbody>\n",
       "    <tr>\n",
       "      <th>0</th>\n",
       "      <td>Si con esto no quitan la copa América de Colom...</td>\n",
       "      <td>2021-05-20 00:10:53</td>\n",
       "      <td>Bogotá</td>\n",
       "      <td>Cartagena, Colombia</td>\n",
       "      <td>1395170125939191812</td>\n",
       "      <td>https://twitter.com/i/web/stuatus/139517012593...</td>\n",
       "    </tr>\n",
       "    <tr>\n",
       "      <th>1</th>\n",
       "      <td>🇨🇴⚽ El jugador del Al-Hilal de la Liga de Arab...</td>\n",
       "      <td>2021-05-20 00:10:00</td>\n",
       "      <td>Bogotá</td>\n",
       "      <td>Colombia</td>\n",
       "      <td>1395169901661368323</td>\n",
       "      <td>https://twitter.com/i/web/stuatus/139516990166...</td>\n",
       "    </tr>\n",
       "    <tr>\n",
       "      <th>2</th>\n",
       "      <td>Que la @CONMEBOL no realice la Copa América en...</td>\n",
       "      <td>2021-05-20 00:02:01</td>\n",
       "      <td>Bogotá</td>\n",
       "      <td>Bogota ,Colombia</td>\n",
       "      <td>1395167894833672195</td>\n",
       "      <td>https://twitter.com/i/web/stuatus/139516789483...</td>\n",
       "    </tr>\n",
       "    <tr>\n",
       "      <th>3</th>\n",
       "      <td>#NoALaCopaAmericaEnColombia \\nQue la @CONMEBOL...</td>\n",
       "      <td>2021-05-19 23:55:17</td>\n",
       "      <td>Bogotá</td>\n",
       "      <td>Holanda</td>\n",
       "      <td>1395166200536182790</td>\n",
       "      <td>https://twitter.com/i/web/stuatus/139516620053...</td>\n",
       "    </tr>\n",
       "    <tr>\n",
       "      <th>4</th>\n",
       "      <td>Que la @CONMEBOL no realice la Copa América en...</td>\n",
       "      <td>2021-05-19 23:42:06</td>\n",
       "      <td>Bogotá</td>\n",
       "      <td>Cali</td>\n",
       "      <td>1395162881600151557</td>\n",
       "      <td>https://twitter.com/i/web/stuatus/139516288160...</td>\n",
       "    </tr>\n",
       "  </tbody>\n",
       "</table>\n",
       "</div>"
      ],
      "text/plain": [
       "                                              tweets                date  \\\n",
       "0  Si con esto no quitan la copa América de Colom... 2021-05-20 00:10:53   \n",
       "1  🇨🇴⚽ El jugador del Al-Hilal de la Liga de Arab... 2021-05-20 00:10:00   \n",
       "2  Que la @CONMEBOL no realice la Copa América en... 2021-05-20 00:02:01   \n",
       "3  #NoALaCopaAmericaEnColombia \\nQue la @CONMEBOL... 2021-05-19 23:55:17   \n",
       "4  Que la @CONMEBOL no realice la Copa América en... 2021-05-19 23:42:06   \n",
       "\n",
       "     city        user_location                   id  \\\n",
       "0  Bogotá  Cartagena, Colombia  1395170125939191812   \n",
       "1  Bogotá             Colombia  1395169901661368323   \n",
       "2  Bogotá     Bogota ,Colombia  1395167894833672195   \n",
       "3  Bogotá              Holanda  1395166200536182790   \n",
       "4  Bogotá                 Cali  1395162881600151557   \n",
       "\n",
       "                                                link  \n",
       "0  https://twitter.com/i/web/stuatus/139517012593...  \n",
       "1  https://twitter.com/i/web/stuatus/139516990166...  \n",
       "2  https://twitter.com/i/web/stuatus/139516789483...  \n",
       "3  https://twitter.com/i/web/stuatus/139516620053...  \n",
       "4  https://twitter.com/i/web/stuatus/139516288160...  "
      ]
     },
     "execution_count": 7,
     "metadata": {},
     "output_type": "execute_result"
    }
   ],
   "source": [
    "t_processed = []\n",
    "\n",
    "for tweet in t: \n",
    "    temp = []\n",
    "    temp.append(tweet.full_text)\n",
    "    temp.append(tweet.created_at)\n",
    "    temp.append('Bogotá')\n",
    "    temp.append(tweet.user.location)\n",
    "    temp.append(tweet.id)\n",
    "    temp.append(f\"https://twitter.com/i/web/stuatus/{tweet.id}\")\n",
    "    \n",
    "    t_processed.append(temp)\n",
    "    \n",
    "    \n",
    "data = pd.DataFrame(t_processed)\n",
    "data.columns = ['tweets', 'date', 'city', 'user_location', 'id', 'link']\n",
    "data.head()"
   ]
  },
  {
   "cell_type": "code",
   "execution_count": 8,
   "metadata": {},
   "outputs": [],
   "source": [
    "import snscrape.modules.twitter as sntwitter"
   ]
  },
  {
   "cell_type": "code",
   "execution_count": 9,
   "metadata": {},
   "outputs": [
    {
     "name": "stdout",
     "output_type": "stream",
     "text": [
      "https://twitter.com/yaal33/status/1394127550088110084\n",
      "2021-05-17 03:08:04+00:00\n",
      "#nocopaamericaencolombia #SOSColombiaDDDHH https://t.co/qRiwQhjM1k\n",
      "****************************************************************************************************\n",
      "\n",
      "https://twitter.com/YunnanMusik/status/1394068679101403139\n",
      "2021-05-16 23:14:08+00:00\n",
      "Esperamos q nos puedan apoyar jugadores, directores e integrantes de cada selección a la voz del pueblo colombiano, ya que en Colombia estamos en un periodo de recambio y necesitamos espacio para ello, por eso NO a la copa en Colombia.\n",
      "#SOSColombiaDDHH  \n",
      "#NoCopaAmericaEnColombia\n",
      "****************************************************************************************************\n",
      "\n",
      "https://twitter.com/DiFirulais_Col/status/1394055585692360708\n",
      "2021-05-16 22:22:06+00:00\n",
      "El ministro de deporte “insiste en su #CopaAmerica2021”\n",
      "Estos hijueputas fascistas se ven tan tiernos, citando palabras del ex-guerrillero Nelson Mandela.🤣🤣🤣\n",
      "#NoCopaAmericaEnColombia\n",
      "#NoCopaAmericaEnColombia https://t.co/uvtcv7UG5z\n",
      "****************************************************************************************************\n",
      "\n",
      "https://twitter.com/Jakmorero/status/1394048505455521800\n",
      "2021-05-16 21:53:58+00:00\n",
      "Señores @CONMEBOL los colombianos no queremos la copa américa en Colombia, no sean complices de @LucenErnesto e @IvanDuque \n",
      "\n",
      "No se lava la sangre de nuestros muertos con la pelota.\n",
      "\n",
      "#NoCopaAmericaEnColombia https://t.co/nec5jWGO0l\n",
      "****************************************************************************************************\n",
      "\n",
      "https://twitter.com/redprince0788/status/1394009598688960519\n",
      "2021-05-16 19:19:22+00:00\n",
      "@WinSportsTV #NoCopaAmericaEnColombia\n",
      "****************************************************************************************************\n",
      "\n",
      "https://twitter.com/dgomezo/status/1393982398904377345\n",
      "2021-05-16 17:31:17+00:00\n",
      "Entonces echémosle la culpa \"al fútbol\" y ya. No hablemos de los dirigentes, y los políticos y tiranos amigos de los dirigentes del fútbol, y la fealdad humana que se esconde y usa impunemente su oscuridad detrás de un deporte bello.#NoCopaAmericaEnColombia\n",
      "****************************************************************************************************\n",
      "\n",
      "https://twitter.com/vadoliquore/status/1393961378076143622\n",
      "2021-05-16 16:07:45+00:00\n",
      "@cesaralo @IgmarVermar #nocopaamericaencolombia #soscolombia @afa @CBF_Futebol @Uruguay @LaRoja @FEFecuador @SeleccionPeru @Albirroja @FBFutbol @SeleVinotinto @FCFSeleccionCol No sean complices de la masacre al pueblo Colombiano, ud ponen a sus jugadores en riesgo y son utilizados mientras nos asesinan https://t.co/A5AkHIofHr\n",
      "****************************************************************************************************\n",
      "\n",
      "https://twitter.com/SocialActividad/status/1393958231328927745\n",
      "2021-05-16 15:55:15+00:00\n",
      "@RevistaSemana Necesitamos cambio, y no al títere tratando de ser presidente. @IvanDuque @VickyDavilaH @AlvaroUribeVel @RevistaSemana @CeDemocratico #nocopaamericaencolombia #CopaAmerica2021 @CONMEBOL #ParoNacional16M https://t.co/PbVTjgqJGG\n",
      "****************************************************************************************************\n",
      "\n",
      "https://twitter.com/LArtivista/status/1393920414116683776\n",
      "2021-05-16 13:24:59+00:00\n",
      "#SOSColombiaDDHH #NoCopaAmericaEnColombia https://t.co/TFx51p8Sev\n",
      "****************************************************************************************************\n",
      "\n",
      "https://twitter.com/gusvillate/status/1393918806079201285\n",
      "2021-05-16 13:18:35+00:00\n",
      "@angelamrobledo @MinDeporteCol @IvanDuque #NoCopaAmericaEnColombia... No a un torneo que se jugaría sobre la tumba de los asesinados en el Paro, la angustia por los desaparecidos por el Estado y las adversas condiciones sociales del país... @IvanDuque y @AlvaroUribeVel sin distractores. @CONMEBOL y @FCF_Oficial cómplices\n",
      "****************************************************************************************************\n",
      "\n",
      "https://twitter.com/dfrozogu/status/1393897075423825920\n",
      "2021-05-16 11:52:14+00:00\n",
      "@FCFSeleccionCol #NoCopaAmericaEnColombia  #Nousendefachada https://t.co/55hK9cVM40\n",
      "****************************************************************************************************\n",
      "\n",
      "https://twitter.com/LuisCampos_DG/status/1393896692668420099\n",
      "2021-05-16 11:50:43+00:00\n",
      "Colombia no necesita la #CopaAmerica2021\n",
      "#NoCopaAmericaEnColombia\n",
      "****************************************************************************************************\n",
      "\n",
      "https://twitter.com/alevalenciaome/status/1393889258025410562\n",
      "2021-05-16 11:21:10+00:00\n",
      "Nosotros también vamos hasta el final con las peticiones #NoCopaAmericaEnColombia este país está manchado de sangre @MinDeporteCol #SOSColombiaDDHH  #SOSColombiaEnDictadura https://t.co/u2hzo8Fhc7\n",
      "****************************************************************************************************\n",
      "\n",
      "https://twitter.com/streeter792/status/1393830349025775619\n",
      "2021-05-16 07:27:05+00:00\n",
      "#ParoNacionalColombia\n",
      "#NoCopaAmericaEnColombia\n",
      "****************************************************************************************************\n",
      "\n",
      "https://twitter.com/Sanshain_m/status/1393811065243377668\n",
      "2021-05-16 06:10:28+00:00\n",
      "@CNNEE No hay garantías de que se celebre la #CopaAmerica2021 en #Colombia, porqué hay civiles disparando a quiénes no piensen como ellos con la complicidad de la @PoliciaColombia\n",
      "\n",
      "#NoCopaAmericaEnColombia \n",
      "\n",
      "https://t.co/x3bEOOA5qh\n",
      "****************************************************************************************************\n",
      "\n",
      "https://twitter.com/Naniita0313/status/1393788766872035336\n",
      "2021-05-16 04:41:52+00:00\n",
      "#NoCopaAmericaEnColombia\n",
      "#SOSColombiaEnDictadura #SOSColombiaNoDuerme #AyudaConUnRT #NOSESTANCENSURANDO #NosEstanMasacrando \n",
      "#SosPopayan #SosBuga #SOSCALI #SosPalmira #sossiloé #SOSColombia https://t.co/PzvwRgIhzI\n",
      "****************************************************************************************************\n",
      "\n",
      "https://twitter.com/cerocorrucion/status/1393770284633763841\n",
      "2021-05-16 03:28:25+00:00\n",
      "#EnColombiaNoQueremosFútbol no hay caja para las vacunas, hay excases de alimentos hasta para las gallinas, no sé puede hacer tratamiento del agua. Qué va a tomar Neimar y Messi. Tenemos llenas las calles de violadores y asesinos. #EsmadAsesinoYViolador  #NoCopaAmericaEnColombia\n",
      "****************************************************************************************************\n",
      "\n",
      "https://twitter.com/gusvillate/status/1393758276756647939\n",
      "2021-05-16 02:40:42+00:00\n",
      "@Ariasvilla #NoCopaAmericaEnColombia... No a un torneo que se jugaría sobre la tumba de los asesinados en el Paro, la angustia por los desaparecidos por el Estado y las adversas condiciones sociales del país... @IvanDuque y @AlvaroUribeVel sin distractores. @CONMEBOL y @FCF_Oficial cómplices\n",
      "****************************************************************************************************\n",
      "\n",
      "https://twitter.com/Jakmorero/status/1393743839052062725\n",
      "2021-05-16 01:43:20+00:00\n",
      "Señor @LucenErnesto se entiende que usted es un simple empleado de duque, pero eso no le da derecho a querer tapar los asesinatos, violaciones y el incumplimiento de los derechos humanos en Colombia, no al baño de sangre, no a la copa américa\n",
      "\n",
      "@CONMEBOL \n",
      "#NoCopaAmericaEnColombia https://t.co/K10485N9x1\n",
      "****************************************************************************************************\n",
      "\n",
      "https://twitter.com/Moncho281/status/1393736077719052288\n",
      "2021-05-16 01:12:29+00:00\n",
      "Ya Colombia no come el cuento de Pan y Circo. No hay Pan y pretenden darnos Circo. Hijueputas. Respeten a Colombia. Métanse su Copa América por donde les quepa.\n",
      "#CopaAmericaNiPorElPutas\n",
      "#NoCopaAmericaEnColombia https://t.co/bQB7bFrvEF\n",
      "****************************************************************************************************\n",
      "\n",
      "https://twitter.com/robinson15co/status/1393731200649506816\n",
      "2021-05-16 00:53:07+00:00\n",
      "@elespectador Solo una palabra. \"BOICOT\"  #NoCopaAmericaEnColombia  #CopaAmerica2021 \n",
      "#SOSNosEstánMatando \n",
      "#ParoNacionalColombia\n",
      "****************************************************************************************************\n",
      "\n",
      "https://twitter.com/Londono_Nat/status/1393692935661686784\n",
      "2021-05-15 22:21:04+00:00\n",
      "#NoQueremosCopaAmerica #NoCopaAmericaEnColombia #NoCopaAmerica https://t.co/RMHCghFOPF\n",
      "****************************************************************************************************\n",
      "\n",
      "https://twitter.com/JaimePiraquive/status/1393689451382050833\n",
      "2021-05-15 22:07:13+00:00\n",
      "#NoCopaAmericaEnColombia #LajuventudEsPrimero\n",
      "#LasCosasComoSon deben hacerse con justicia. https://t.co/JLhmWlrWI7\n",
      "****************************************************************************************************\n",
      "\n",
      "https://twitter.com/andreserranito/status/1393688569433178113\n",
      "2021-05-15 22:03:43+00:00\n",
      "Les Presento a la mascota oficial de la Copa América 2021 #CopaAmerica2021 #NoCopaAmericaEnColombia #NosEstanMatandocolombia #NosEstanAsesinando #NOSESTANCENSURANDO #Nosestanviolando https://t.co/1kCfjyxGZP\n",
      "****************************************************************************************************\n",
      "\n",
      "https://twitter.com/ioly2017/status/1393684820048424962\n",
      "2021-05-15 21:48:49+00:00\n",
      "@CNNEE @cnni @RepMcGovern #NoCopaAmericaEnColombia https://t.co/EFF529Z5E2\n",
      "****************************************************************************************************\n",
      "\n",
      "https://twitter.com/Alguitamarina1/status/1393679933218729989\n",
      "2021-05-15 21:29:24+00:00\n",
      "@vanguardiacom #NoCopaAmericaEnColombia\n",
      "****************************************************************************************************\n",
      "\n",
      "https://twitter.com/ioly2017/status/1393678298568433667\n",
      "2021-05-15 21:22:54+00:00\n",
      "@CONMEBOL @Libertadores @Sudamericana @FIFAcom  #NoCopaAmericaEnColombia https://t.co/lmFRRghrbI\n",
      "****************************************************************************************************\n",
      "\n",
      "https://twitter.com/arcelio/status/1393655495152607233\n",
      "2021-05-15 19:52:17+00:00\n",
      "@GolCaracol @NoticiasRCN @SenalDeportes @lcvelez @titopuccettic colombia sangra y los industriales piden fútbol, indignante.  #nocopaamericaencolombia\n",
      "****************************************************************************************************\n",
      "\n",
      "https://twitter.com/Jakmorero/status/1393654658892173315\n",
      "2021-05-15 19:48:58+00:00\n",
      "@CONMEBOL no debe apoyar el asesinato que se está dando del pueblo colombiano, cada noche durante las últimas 14 han asesinado personas.\n",
      "\n",
      "#nocopaamericaencolombia https://t.co/M1Ll05ONJQ\n",
      "****************************************************************************************************\n",
      "\n",
      "https://twitter.com/SocialActividad/status/1393650918386712581\n",
      "2021-05-15 19:34:06+00:00\n",
      "@CopaAmerica @CONMEBOL @EvolucionCSF @EvolucionCSF @MinDeporteCol @LucenErnesto Podridos: @IvanDuque @AlvaroUribeVel @CeDemocratico @FIFAcom #conmebol #CopaAmerica #copaamerica2021 #NosEstanMantando #nocopaamericaencolombia https://t.co/E2qxVh2eFe\n",
      "****************************************************************************************************\n",
      "\n",
      "https://twitter.com/serpra72/status/1393643830956675075\n",
      "2021-05-15 19:05:56+00:00\n",
      "Ministro @LucenErnesto debemos aprender a decir no se puede,mejor ahora y no después,el mensaje debe ser no estamos para eventos el país arde en protesta y molestia. Creo que el balón que tanto nos unió,hoy en día nos puede destruir. @ExtratiempoCO. #nocopaamericaencolombia\n",
      "****************************************************************************************************\n",
      "\n",
      "https://twitter.com/DorisceCo/status/1393635486015557637\n",
      "2021-05-15 18:32:47+00:00\n",
      "@JuanTrujilloC @CONMEBOL Claro si el gobierno dice que estamos en déficit, porqué si hay para juegos de fútbol y empendejar https://t.co/Bgisnu5upl gente, para que olviden todo esto de hoy. #nocopaamericaencolombia\n",
      "****************************************************************************************************\n",
      "\n",
      "https://twitter.com/alejovillavo/status/1393622522214731781\n",
      "2021-05-15 17:41:16+00:00\n",
      "#nocopaamericaencolombia hagamos un Grito al unisono que los jugadores de las Selecciones no sean complices de este circo, que se lleven este torneo a otro sitio porque en Colombia estan matando a civiles y el gobierno quiere este evento para tapar la situacion #jugadoresdiganNO\n",
      "****************************************************************************************************\n",
      "\n",
      "https://twitter.com/Milena43044690/status/1393618200898768897\n",
      "2021-05-15 17:24:05+00:00\n",
      "#SOSColombiaNosEstanMatando\n",
      "#SOSColombiaDDDHH\n",
      "#nocopaamericaencolombia\n",
      "https://t.co/oNUGlQWhpw\n",
      "****************************************************************************************************\n",
      "\n",
      "https://twitter.com/AlejandroVarFJ/status/1393585594970877956\n",
      "2021-05-15 15:14:32+00:00\n",
      "No se puede jugar fútbol, en una cancha llena de sangre. #nocopaamericaencolombia https://t.co/qxJj7j0LoW\n",
      "****************************************************************************************************\n",
      "\n",
      "https://twitter.com/ChrisPeverieri/status/1393581296643973122\n",
      "2021-05-15 14:57:27+00:00\n",
      "#Colombia | «Nel pieno di una crisi sociale che sembra non avere una via d’uscita, in Colombia si continua tranquillamente a giocare a calcio».\n",
      "In Colombia una Copa América macchiata di sangue\n",
      "#NoMasFutbolParaDistraer #nocopaamericaencolombia \n",
      "https://t.co/sZooD04DGf https://t.co/5EOUvFUyJW\n",
      "****************************************************************************************************\n",
      "\n",
      "https://twitter.com/leonard59581947/status/1393570788750598147\n",
      "2021-05-15 14:15:41+00:00\n",
      "@andrefelgiraldo @MdeFrancisco12 Amo el fútbol, pero es verdaderamente importante jugar y poner en riesgo a la ciudadanía y jugadores??? #ColombiaSOS #nocopaamericaencolombia @CopaAmerica https://t.co/pKfhvDYJcR\n",
      "****************************************************************************************************\n",
      "\n",
      "https://twitter.com/dial3869/status/1393554695407419395\n",
      "2021-05-15 13:11:45+00:00\n",
      "@CNNEE Que la hagan, de ahí a que puedan jugar hay una distancia muy grande, los gases lacrimógenos harán de esa copa sea un desastre y fuera de los estadios tristemente un baño de sangre, ya se ha visto esto en los 2 últimos partidos de  la libertadores #nocopaamericaencolombia\n",
      "****************************************************************************************************\n",
      "\n",
      "https://twitter.com/Alguitamarina1/status/1393538718594740225\n",
      "2021-05-15 12:08:15+00:00\n",
      "@CNNEE #nocopaamericaencolombia\n",
      "****************************************************************************************************\n",
      "\n",
      "https://twitter.com/akosta3201/status/1393533601191538693\n",
      "2021-05-15 11:47:55+00:00\n",
      "@ONUHumanRights @ONU_es @CONMEBOL @Sudamericana eso es lo q quieren patrocinar #nocopaamericaencolombia https://t.co/B3jj1ZfjqN\n",
      "****************************************************************************************************\n",
      "\n",
      "https://twitter.com/Jackevm/status/1393530381069127682\n",
      "2021-05-15 11:35:08+00:00\n",
      "#nocopaamericaencolombia https://t.co/P9AlcOkk0W\n",
      "****************************************************************************************************\n",
      "\n",
      "https://twitter.com/SocialActividad/status/1393386156646178816\n",
      "2021-05-15 02:02:02+00:00\n",
      "@elespectador @SamsungCO Y recuerden #NoCopaAmericaEnColombia #CopaAmerica2021 #NosEstanMantando #Popayan #SOSPopayán #SOSCali #NosEstanMatandocolombia https://t.co/lGXpcdoood\n",
      "****************************************************************************************************\n",
      "\n",
      "https://twitter.com/MAGE2606/status/1393379456660566022\n",
      "2021-05-15 01:35:24+00:00\n",
      "@CONMEBOL @Libertadores @Corinthians @CopaAmerica @CBF_Futebol @marquinhos_m5 Que más tiene que pasar?\n",
      "@FIFAcom  @CONMEBOL \n",
      "#SOSColombiaDDHH \n",
      "#soscolombia \n",
      "#NoCopaAmericaEnColombia https://t.co/WjhXEUmgLK\n",
      "****************************************************************************************************\n",
      "\n",
      "https://twitter.com/MAGE2606/status/1393378742408413190\n",
      "2021-05-15 01:32:34+00:00\n",
      "@CONMEBOL @CopaAmerica Si los jugadores se quejaron, imagínense a los niños.\n",
      "Que más tiene que pasar?\n",
      "@CONMEBOL @FIFAcom \n",
      "#NoCopaAmericaEnColombia \n",
      "#SOSColmbia \n",
      "#SOSColombiaDDHH https://t.co/WjhXEUmgLK\n",
      "****************************************************************************************************\n",
      "\n",
      "https://twitter.com/SocialActividad/status/1393286668136898567\n",
      "2021-05-14 19:26:42+00:00\n",
      "No se juega y punto, Colombia no esta para juegos. @conmebol @IvanDuque @AlvaroUribeVel @CeDemocratico @americascup @copaamerica @FCFSeleccionCol @MelukLeCuenta @fifa #JugarONoJugar #Conmebol #NoCopaAmericaEnColombia #CopaAmerica2021 #ParoNacional14M #EsmadViolador https://t.co/z3uv5eMEh9\n",
      "****************************************************************************************************\n",
      "\n",
      "https://twitter.com/JuanGam95567627/status/1393209925598425095\n",
      "2021-05-14 14:21:45+00:00\n",
      "#nocopaamericaencolombia\n",
      "Fueraaaaa\n",
      "Fueraaaaa\n",
      "Fueraaa\n",
      "****************************************************************************************************\n",
      "\n",
      "https://twitter.com/guigui10jrr/status/1393209627265933313\n",
      "2021-05-14 14:20:34+00:00\n",
      "Aguante ala primera linea #LaPelotaEstaManchada\n",
      "#NoCopaAmericaEnColombia https://t.co/TLopLTdzg8\n",
      "****************************************************************************************************\n",
      "\n",
      "https://twitter.com/CarolinaMoreno/status/1393181772280643589\n",
      "2021-05-14 12:29:53+00:00\n",
      "Porque no quiero pan y circo. #NoCopaAmericaEnColombia. No estamos para estas cosas.\n",
      "****************************************************************************************************\n",
      "\n",
      "https://twitter.com/CristianJoseG17/status/1393168939333693443\n",
      "2021-05-14 11:38:53+00:00\n",
      "@fabioariascut @maltescut1 @sindesenacol @wilsonariasc @melascap  @jowilcama @ConsejeriaDDHH. Se repite la historia de la conquista como los españoles jugaban futbol con la cabeza de nuestros indígenas hoy las mafias futboleras quieren repetir historia. #NoCopaAmericaEnColombia https://t.co/wH22OOwuKQ\n",
      "****************************************************************************************************\n",
      "\n",
      "https://twitter.com/Juanitoo0011/status/1393161704410918916\n",
      "2021-05-14 11:10:08+00:00\n",
      "@CONMEBOL #NoCopaAmericaEnColombia PRIORIDAD A LO IMPORTANTE @IvanDuque SU OBLIGACIÓN ES NEGOCIAR, NO TENER ESTAS PANTALLAS DE HUMO\n",
      "****************************************************************************************************\n",
      "\n",
      "https://twitter.com/FredyHernanR/status/1393156914654195720\n",
      "2021-05-14 10:51:06+00:00\n",
      "Señores @conmebol @CocaColaCol @Nike @SamsungCO @MastercardCol @TAGHeuer les prometemos q si hacen la copa America nosotros como pueblo mostraremos ante el mundo lo que hace este gobierno genocida de @IvanDuque, por favor hagan este certamen en otro pais. #NoCopaAmericaEnColombia https://t.co/IKUnGCTwRb\n",
      "****************************************************************************************************\n",
      "\n",
      "https://twitter.com/FredyHernanR/status/1393156603768098817\n",
      "2021-05-14 10:49:52+00:00\n",
      "@ELTIEMPO Señores @conmebol @CocaColaCol @Nike @SamsungCO @MastercardCol @TAGHeuer les prometemos q si hacen la copa America nosotros como pueblo mostraremos ante el mundo lo que hace este gobierno genocida de @IvanDuque, por favor hagan este certamen en otro pais. #NoCopaAmericaEnColombia\n",
      "****************************************************************************************************\n",
      "\n",
      "https://twitter.com/anaid735/status/1393124216350904320\n",
      "2021-05-14 08:41:10+00:00\n",
      "@Don96997875 @98jorge_sau @Ins24272277 @morenabeltran10 Y cómo atacan a periodistas, defensores de derechos humanos, violan a las jóvenes. Son una basura. #NoCopaAmericaEnColombia\n",
      "****************************************************************************************************\n",
      "\n",
      "https://twitter.com/karitozt/status/1393066401770917888\n",
      "2021-05-14 04:51:26+00:00\n",
      "#NoCopaAmericaEnColombia https://t.co/T7tP8RBdKv\n",
      "****************************************************************************************************\n",
      "\n",
      "https://twitter.com/CamiloDiazQ/status/1393048783467032577\n",
      "2021-05-14 03:41:26+00:00\n",
      "Esto pasa en Colombia en el régimen del terror de @IvanDuque. @ONUHumanRights @CONMEBOL @ConmebolMedia #SOSColombiaNosEstanMatando #NoCopaAmericaEnColombia https://t.co/rjtYcPwVzT\n",
      "****************************************************************************************************\n",
      "\n",
      "https://twitter.com/macaria1974/status/1393045666461634560\n",
      "2021-05-14 03:29:03+00:00\n",
      "Porque empezaron a pensar, a leer, a creer en sí mismos y en lo que son capaces de hacer, ya no Colombia no come de sustos, ya no le hace los goles de la infamia #nocopaamericaencolombia esa plata la necesita el país para la educación, la salud\n",
      "****************************************************************************************************\n",
      "\n",
      "https://twitter.com/MAGE2606/status/1393042415355793413\n",
      "2021-05-14 03:16:07+00:00\n",
      "@FIFAcom #NoCopaAmericaEnColombia #SOSColombiaDDHH #SOSColmbia #soscolombiahumanrights @FIFAcom @CONMEBOL https://t.co/0amP29wnmf\n",
      "****************************************************************************************************\n",
      "\n",
      "https://twitter.com/MAGE2606/status/1393030585266819072\n",
      "2021-05-14 02:29:07+00:00\n",
      "@Libertadores @CONMEBOL #SOSColombiaNosEstanMatando #NoCopaAmericaEnColombia https://t.co/1W39pHbXYO\n",
      "****************************************************************************************************\n",
      "\n",
      "https://twitter.com/MAGE2606/status/1393028659632431111\n",
      "2021-05-14 02:21:28+00:00\n",
      "#SOSColmbia @CONMEBOL #NoCopaAmericaEnColombia #SOSColombiaNoDuerme https://t.co/b3C3giCYFg\n",
      "****************************************************************************************************\n",
      "\n",
      "https://twitter.com/CamiloDiazQ/status/1393025438453280769\n",
      "2021-05-14 02:08:40+00:00\n",
      "@CONMEBOL, van a dejar que esto pase en la Copa América? Que vergüenza que el mundo tenga que ver esto. #NoCopaAmericaEnColombia https://t.co/xKKKZeoPFI\n",
      "****************************************************************************************************\n",
      "\n",
      "https://twitter.com/JonathanACJ/status/1393024940715151361\n",
      "2021-05-14 02:06:41+00:00\n",
      "@IvanDuque seguiremos tapando lo que acontece en el país con fútbol, tal cual, como la #Roma de #Nerón con los famosos noxii? \n",
      "\n",
      "#13DeMayo\n",
      "#CopaLibertadores\n",
      "#ParoNacional13M\n",
      "#NoALaCopaAmericaEnColombia\n",
      "#NoCopaAmericaEnColombia\n",
      "#PanYCirco\n",
      "#LaMierdaQueNoTapoElGato\n",
      "****************************************************************************************************\n",
      "\n",
      "https://twitter.com/Julian11751067/status/1393016519693643779\n",
      "2021-05-14 01:33:13+00:00\n",
      "@ohenriqueandre Obrigato 🇨🇴🇨🇴🇨🇴🇨🇴🇨🇴🇨🇴 #nocopaamericaencolombia #SOSColombiaEnDictadura conmebol corrupta manchada por sangre de Colombia por unos cuantos dólares, cómplices!!\n",
      "****************************************************************************************************\n",
      "\n",
      "https://twitter.com/Javiera0228/status/1393015108473958400\n",
      "2021-05-14 01:27:37+00:00\n",
      "Que no se realice el negocio de la @CONMEBOL a quien poco le importa la integridad nisiquiera de los protagonistas, los futbolistas..\n",
      "\n",
      "#nocopaamericaencolombia https://t.co/fqFR4R75nM\n",
      "****************************************************************************************************\n",
      "\n",
      "https://twitter.com/guillermosoto8/status/1393011747208978433\n",
      "2021-05-14 01:14:16+00:00\n",
      "Hoy todos los instrumentos de música de las barras del fútbol colombiano suena para levantar y alentar a las personas en las marchas que buscan DIGNIDAD para su país.\n",
      "#VivaLaVida401\n",
      "#ParoNacional12M\n",
      "#CaliEsColombiaPor\n",
      "#nocopaamericaencolombia \n",
      "#NoALaCopaAmericaEnColombia\n",
      "****************************************************************************************************\n",
      "\n",
      "https://twitter.com/MAGE2606/status/1393003423100923906\n",
      "2021-05-14 00:41:11+00:00\n",
      "@FIFAcom @CONMEBOL @FIFAcom #SOSColmbia #NoCopaAmericaEnColombia https://t.co/bom4lJLoym\n",
      "****************************************************************************************************\n",
      "\n",
      "https://twitter.com/MAGE2606/status/1393000828059799553\n",
      "2021-05-14 00:30:52+00:00\n",
      "@FIFAcom #NoCopaAmericaEnColombia @CONMEBOL #SOSColmbia https://t.co/2K0iq5fmpD\n",
      "****************************************************************************************************\n",
      "\n",
      "https://twitter.com/Mugrientobar/status/1392998702172844032\n",
      "2021-05-14 00:22:25+00:00\n",
      "En #Colombia, la pelota, lastimosamente, sí son capaces de mancharla. #NoCopaAmericaEnColombia\n",
      "****************************************************************************************************\n",
      "\n",
      "https://twitter.com/MesaStefy/status/1392996517225680900\n",
      "2021-05-14 00:13:44+00:00\n",
      "@ConmebolMedia @CONMEBOL https://t.co/UqjlqX6Jhw #NoCopaAmericaEnColombia No queremos si circo!!!\n",
      "****************************************************************************************************\n",
      "\n",
      "https://twitter.com/KIDOpedro/status/1392985299417014273\n",
      "2021-05-13 23:29:10+00:00\n",
      "#NoCopaAmericaEnColombia https://t.co/ZhgsFuuZgI\n",
      "****************************************************************************************************\n",
      "\n",
      "https://twitter.com/aamaya0826/status/1392983616855097346\n",
      "2021-05-13 23:22:29+00:00\n",
      "@SC_ESPN @ESPNDeportes @FoxSportsArg @CONMEBOL @ConmebolMedia @ligaconmebolsud @Libertadores @CONMEBOL_GO #NoCopaAmericaEnColombia gracias por tanto... https://t.co/71X66CrgSS\n",
      "****************************************************************************************************\n",
      "\n",
      "https://twitter.com/AnaJudithDomin2/status/1392979056925282304\n",
      "2021-05-13 23:04:22+00:00\n",
      "#NoCopaAmericaEnColombia https://t.co/99N0eaa08a\n",
      "****************************************************************************************************\n",
      "\n",
      "https://twitter.com/jev1125/status/1392978635783540737\n",
      "2021-05-13 23:02:41+00:00\n",
      "#NoCopaAmericaEnColombia\n",
      "****************************************************************************************************\n",
      "\n",
      "https://twitter.com/Orlando30634885/status/1392975904360501253\n",
      "2021-05-13 22:51:50+00:00\n",
      "#NoCopaAmericaEnColombia\n",
      "****************************************************************************************************\n",
      "\n",
      "https://twitter.com/MakinadelKaribe/status/1392971833348087811\n",
      "2021-05-13 22:35:39+00:00\n",
      "Ey Duque de Uribe \"Colombia no está para juegos\" en este momento. #NoCopaAmericaEnColombia #SOSColombiaEnDictadura #SOSColombia\n",
      "****************************************************************************************************\n",
      "\n",
      "https://twitter.com/CamiloDiazQ/status/1392969514032242689\n",
      "2021-05-13 22:26:26+00:00\n",
      "@CONMEBOL cómplice del régimen asesino de @IvanDuque. #NoCopaAmericaEnColombia https://t.co/U15hDP7Qq8\n",
      "****************************************************************************************************\n",
      "\n",
      "https://twitter.com/CamiloDiazQ/status/1392969216454766596\n",
      "2021-05-13 22:25:15+00:00\n",
      "@CONMEBOL, así quieren jugar la Copa América en un país en guerra? No hay garantías para las selecciones suramericanas en Colombia por culpa del regimen de @IvanDuque. #NoCopaAmericaEnColombia https://t.co/HQrsAbGXxO\n",
      "****************************************************************************************************\n",
      "\n",
      "https://twitter.com/AndradMendoza/status/1392968214980743170\n",
      "2021-05-13 22:21:17+00:00\n",
      "#NoCopaAmericaEnColombia..El fiscalucho de bolsillo Barbosa esta presto para actuar.. https://t.co/74M0IipT2l\n",
      "****************************************************************************************************\n",
      "\n",
      "https://twitter.com/MAGE2606/status/1392967103859228674\n",
      "2021-05-13 22:16:52+00:00\n",
      "@CONMEBOL @CopaAmerica #NoCopaAmericaEnColombia @CONMEBOL https://t.co/fbjHJQ9Th6\n",
      "****************************************************************************************************\n",
      "\n",
      "https://twitter.com/Da3nerysFir3/status/1392961734172938243\n",
      "2021-05-13 21:55:32+00:00\n",
      "Parceros, al final se hará la #CopaAmerica2021 SÍ O SÍ.\n",
      "No importa que el terreno de juego esté manchado de ríos de sangre.\n",
      "\n",
      "No importa nada, a este puto gobierno no le importamos.\n",
      "#SOSColombiaEnDictadura #NoCopaAmericaEnColombia #ColombiaResiste #DuqueAsesino https://t.co/z9YhWenBDk\n",
      "****************************************************************************************************\n",
      "\n",
      "https://twitter.com/rojas_schulz/status/1392961464848158720\n",
      "2021-05-13 21:54:27+00:00\n",
      "#NoCopaAmericaEnColombia\n",
      "****************************************************************************************************\n",
      "\n",
      "https://twitter.com/CECYRIVEROS/status/1392955393568088074\n",
      "2021-05-13 21:30:20+00:00\n",
      "#NoCopaAméricaEnColombia El pueblo colombiano exige solución a las justas peticiones. No al despilfarro de nuestros recursos. https://t.co/zGWxcaGkwF\n",
      "****************************************************************************************************\n",
      "\n",
      "https://twitter.com/karitozt/status/1392953959338418184\n",
      "2021-05-13 21:24:38+00:00\n",
      "No podrán tapar la muerte con goles.\n",
      "#NoALaCopaAmericaEnColombia #NoCopaAmericaEnColombia\n",
      "****************************************************************************************************\n",
      "\n",
      "https://twitter.com/Edwin_SkywaIker/status/1392949791651471362\n",
      "2021-05-13 21:08:04+00:00\n",
      "@CONMEBOL cómplice!!!\n",
      "#conmebolverguenza \n",
      "#CopaAmerica2021 \n",
      "#NoCopaAmericaEnColombia https://t.co/U6AMcKzH2H\n",
      "****************************************************************************************************\n",
      "\n",
      "https://twitter.com/zerausrausrius/status/1392947149537742854\n",
      "2021-05-13 20:57:34+00:00\n",
      "Como así que copa América en Colombia? \n",
      "Ar iu creisi?\n",
      "#NoCopaAmericaEnColombia\n",
      "****************************************************************************************************\n",
      "\n",
      "https://twitter.com/NestorCorrale13/status/1392947120152457220\n",
      "2021-05-13 20:57:27+00:00\n",
      "No es momento para esto #NoCopaAmericaEnColombia https://t.co/dr1VnFDLlF\n",
      "****************************************************************************************************\n",
      "\n",
      "https://twitter.com/JonathanACJ/status/1392945265590554624\n",
      "2021-05-13 20:50:05+00:00\n",
      "@IvanDuque si el pueblo no tiene pan, el gobierno no debería promover el circo.\n",
      "\n",
      "@CONMEBOL\n",
      "#NoALaCopaAmericaEnColombia\n",
      "#NoCopaAmericaEnColombia\n",
      "****************************************************************************************************\n",
      "\n",
      "https://twitter.com/Locombiasinfutu/status/1392944561073295365\n",
      "2021-05-13 20:47:17+00:00\n",
      "@IvanDuque #duquerenuncie #NoCopaAmericaEnColombia @AlvaroUribeVel @CNE_COLOMBIA @NoticiasCaracol @RedMasNoticias @NoticiasRCN @NoticiasUno @CaracolRadio @CNNEE @nytimeses @mluciaramirez @MariaFdaCabal @PalomaValenciaL @BluRadioCo @lcvelez @VickyDavilaH @CIDH @JMVivancoHRW https://t.co/N4fxI3Jn8z\n",
      "****************************************************************************************************\n",
      "\n",
      "https://twitter.com/22Klamy/status/1392941039137300482\n",
      "2021-05-13 20:33:17+00:00\n",
      "#NoCopaAmericaEnColombia #SOSColombiaEnDictadura @AlvaroUribeVel @IvanDuque Asesinos!   @OEA_oficial @MisionONUCol @onucolombia @unasur @DefensoriaCol https://t.co/vFYLJRsSqU\n",
      "****************************************************************************************************\n",
      "\n",
      "https://twitter.com/gusvillate/status/1392937607215128580\n",
      "2021-05-13 20:19:39+00:00\n",
      "@PajaritoDeIvan #NoCopaAmericaEnColombia... No a un torneo que se jugaría sobre la tumba de los asesinados en el Paro, la angustia por los desaparecidos por el Estado y las adversas condiciones sociales del país... @IvanDuque y @AlvaroUribeVel sin distractores. @CONMEBOL y @FCF_Oficial cómplices\n",
      "****************************************************************************************************\n",
      "\n",
      "https://twitter.com/vare1985/status/1392931850222555140\n",
      "2021-05-13 19:56:47+00:00\n",
      "@AmericadeCali #NoCopaAmericaEnColombia https://t.co/koxBvvibA3\n",
      "****************************************************************************************************\n",
      "\n",
      "https://twitter.com/jeank1000/status/1392924012892807168\n",
      "2021-05-13 19:25:38+00:00\n",
      "@CONMEBOL solo los mueve el dinero.... Con tanta sangre y caos pero eso no importa cuando un gol vale más que lo que pide un país #NoCopaAmericaEnColombia https://t.co/kbLBChzS9R\n",
      "****************************************************************************************************\n",
      "\n",
      "https://twitter.com/jeank1000/status/1392923300192563205\n",
      "2021-05-13 19:22:48+00:00\n",
      "@Sudamericana @CONMEBOL  ya saben todo lo que pasa acá y aun así quieren nublarlo con sus partidos? Vale más un puto balón que las peticiones y ruegos de colombianos? NO LOS VAMOS A DEJAR ENTRAR A NINGÚN MALDITO ESTADIO vamos a Hacer que pierdan dinero #NoCopaAmericaEnColombia https://t.co/XbxzUNfwra\n",
      "****************************************************************************************************\n",
      "\n",
      "https://twitter.com/US_AEI/status/1392922889238745088\n",
      "2021-05-13 19:21:10+00:00\n",
      "@CopaAmerica #CopaAmerica2021 \n",
      "#NoCopaAmericaEnColombia https://t.co/GLpVVCnkCr\n",
      "****************************************************************************************************\n",
      "\n",
      "https://twitter.com/vare1985/status/1392919711395028994\n",
      "2021-05-13 19:08:33+00:00\n",
      "@eldoctorpelaez #NoCopaAmericaEnColombia\n",
      "****************************************************************************************************\n",
      "\n",
      "https://twitter.com/vare1985/status/1392919346884882432\n",
      "2021-05-13 19:07:06+00:00\n",
      "#NoCopaAmericaEnColombia https://t.co/rnYG451MgB\n",
      "****************************************************************************************************\n",
      "\n",
      "https://twitter.com/MAGE2606/status/1392910462883274752\n",
      "2021-05-13 18:31:48+00:00\n",
      "@elespectador @CONMEBOL #NoCopaAmericaEnColombia https://t.co/cdq4CiuQA5\n",
      "****************************************************************************************************\n",
      "\n",
      "https://twitter.com/EMUNOZCUBA/status/1392905635877040129\n",
      "2021-05-13 18:12:37+00:00\n",
      "@HablaDeportes #NoCopaAmericaEnColombia\n",
      "****************************************************************************************************\n",
      "\n",
      "https://twitter.com/O_Santos7/status/1392904887659384844\n",
      "2021-05-13 18:09:38+00:00\n",
      "Increíble lo que hace @Libertadores , jugar si o si los partidos de Copa en un país donde la crisis social es crítica, es abominable. El fútbol es un deporte del pueblo, no podes jugar en charcos de sangre! \n",
      "\n",
      "Aquí hay intereses corruptos económicos! #NoCopaAmericaEnColombia\n",
      "****************************************************************************************************\n",
      "\n",
      "https://twitter.com/BarriosAC1927/status/1392904706335330306\n",
      "2021-05-13 18:08:55+00:00\n",
      "Apoyo total para el gremio de jugadores, HOY SON COLOMBIA... q no se conviertan en el espectáculo para tapar esta massacre \n",
      "#NoCopaAmericaEnColombia \n",
      "#QuePareElFutbol https://t.co/rTZXExps5W\n",
      "****************************************************************************************************\n",
      "\n",
      "https://twitter.com/DaRiAnYbB/status/1392903133664268289\n",
      "2021-05-13 18:02:40+00:00\n",
      "#CopaAmerica2021 #NoCopaAmericaEnColombia https://t.co/aMyYXl7aMR\n",
      "****************************************************************************************************\n",
      "\n"
     ]
    },
    {
     "name": "stdout",
     "output_type": "stream",
     "text": [
      "https://twitter.com/CamiloDiazQ/status/1392903127901290507\n",
      "2021-05-13 18:02:39+00:00\n",
      "@CONMEBOL --&gt; Vergüenza!!!! Entienden eso??? #NoCopaAmericaEnColombia https://t.co/kyliqd5Dkz\n",
      "****************************************************************************************************\n",
      "\n"
     ]
    },
    {
     "data": {
      "text/html": [
       "<div>\n",
       "<style scoped>\n",
       "    .dataframe tbody tr th:only-of-type {\n",
       "        vertical-align: middle;\n",
       "    }\n",
       "\n",
       "    .dataframe tbody tr th {\n",
       "        vertical-align: top;\n",
       "    }\n",
       "\n",
       "    .dataframe thead th {\n",
       "        text-align: right;\n",
       "    }\n",
       "</style>\n",
       "<table border=\"1\" class=\"dataframe\">\n",
       "  <thead>\n",
       "    <tr style=\"text-align: right;\">\n",
       "      <th></th>\n",
       "      <th>tweets</th>\n",
       "      <th>date</th>\n",
       "    </tr>\n",
       "  </thead>\n",
       "  <tbody>\n",
       "    <tr>\n",
       "      <th>0</th>\n",
       "      <td>Si con esto no quitan la copa América de Colom...</td>\n",
       "      <td>2021-05-20 00:10:53</td>\n",
       "    </tr>\n",
       "    <tr>\n",
       "      <th>1</th>\n",
       "      <td>🇨🇴⚽ El jugador del Al-Hilal de la Liga de Arab...</td>\n",
       "      <td>2021-05-20 00:10:00</td>\n",
       "    </tr>\n",
       "    <tr>\n",
       "      <th>2</th>\n",
       "      <td>Que la @CONMEBOL no realice la Copa América en...</td>\n",
       "      <td>2021-05-20 00:02:01</td>\n",
       "    </tr>\n",
       "    <tr>\n",
       "      <th>3</th>\n",
       "      <td>#NoALaCopaAmericaEnColombia \\nQue la @CONMEBOL...</td>\n",
       "      <td>2021-05-19 23:55:17</td>\n",
       "    </tr>\n",
       "    <tr>\n",
       "      <th>4</th>\n",
       "      <td>Que la @CONMEBOL no realice la Copa América en...</td>\n",
       "      <td>2021-05-19 23:42:06</td>\n",
       "    </tr>\n",
       "  </tbody>\n",
       "</table>\n",
       "</div>"
      ],
      "text/plain": [
       "                                              tweets                date\n",
       "0  Si con esto no quitan la copa América de Colom... 2021-05-20 00:10:53\n",
       "1  🇨🇴⚽ El jugador del Al-Hilal de la Liga de Arab... 2021-05-20 00:10:00\n",
       "2  Que la @CONMEBOL no realice la Copa América en... 2021-05-20 00:02:01\n",
       "3  #NoALaCopaAmericaEnColombia \\nQue la @CONMEBOL... 2021-05-19 23:55:17\n",
       "4  Que la @CONMEBOL no realice la Copa América en... 2021-05-19 23:42:06"
      ]
     },
     "execution_count": 9,
     "metadata": {},
     "output_type": "execute_result"
    }
   ],
   "source": [
    "maxTweets = 100\n",
    "for i,tweet in enumerate(sntwitter.TwitterSearchScraper('#NoCopaAmericaEnColombia ' + 'since:2021-04-01 until:2021-05-18').get_items()) :\n",
    "        if i > maxTweets :\n",
    "            break\n",
    "        print(tweet)\n",
    "        print(tweet.date)\n",
    "        print(tweet.content)\n",
    "        print(\"*\"*100)\n",
    "        print()\n",
    "        \n",
    "        \n",
    "data = data[['tweets', 'date']]\n",
    "data.head()"
   ]
  },
  {
   "cell_type": "code",
   "execution_count": 10,
   "metadata": {},
   "outputs": [
    {
     "data": {
      "text/html": [
       "<div>\n",
       "<style scoped>\n",
       "    .dataframe tbody tr th:only-of-type {\n",
       "        vertical-align: middle;\n",
       "    }\n",
       "\n",
       "    .dataframe tbody tr th {\n",
       "        vertical-align: top;\n",
       "    }\n",
       "\n",
       "    .dataframe thead th {\n",
       "        text-align: right;\n",
       "    }\n",
       "</style>\n",
       "<table border=\"1\" class=\"dataframe\">\n",
       "  <thead>\n",
       "    <tr style=\"text-align: right;\">\n",
       "      <th></th>\n",
       "      <th>tweets</th>\n",
       "      <th>date</th>\n",
       "      <th>texto_limpio</th>\n",
       "      <th>links</th>\n",
       "      <th>hashtags</th>\n",
       "      <th>mentions</th>\n",
       "    </tr>\n",
       "  </thead>\n",
       "  <tbody>\n",
       "    <tr>\n",
       "      <th>0</th>\n",
       "      <td>Si con esto no quitan la copa América de Colom...</td>\n",
       "      <td>2021-05-20 00:10:53</td>\n",
       "      <td>Si con esto no quitan la copa América de Colom...</td>\n",
       "      <td>[]</td>\n",
       "      <td>[]</td>\n",
       "      <td>[]</td>\n",
       "    </tr>\n",
       "    <tr>\n",
       "      <th>1</th>\n",
       "      <td>🇨🇴⚽ El jugador del Al-Hilal de la Liga de Arab...</td>\n",
       "      <td>2021-05-20 00:10:00</td>\n",
       "      <td>🇨🇴⚽ El jugador del Al-Hilal de la Liga de Arab...</td>\n",
       "      <td>[https://t.co/M43cvmMo8r]</td>\n",
       "      <td>[]</td>\n",
       "      <td>[@VBarCaracol]</td>\n",
       "    </tr>\n",
       "    <tr>\n",
       "      <th>2</th>\n",
       "      <td>Que la @CONMEBOL no realice la Copa América en...</td>\n",
       "      <td>2021-05-20 00:02:01</td>\n",
       "      <td>Que la  no realice la Copa América en Colombia...</td>\n",
       "      <td>[https://t.co/6khZBP94qB]</td>\n",
       "      <td>[#NoALaCopaAméricaEnColombia]</td>\n",
       "      <td>[@CONMEBOL, @ChangeorgCO]</td>\n",
       "    </tr>\n",
       "    <tr>\n",
       "      <th>3</th>\n",
       "      <td>#NoALaCopaAmericaEnColombia \\nQue la @CONMEBOL...</td>\n",
       "      <td>2021-05-19 23:55:17</td>\n",
       "      <td>\\nQue la  no realice la Copa América en Colom...</td>\n",
       "      <td>[https://t.co/9j6tHyzxAx]</td>\n",
       "      <td>[#NoALaCopaAmericaEnColombia, #NoALaCopaAméric...</td>\n",
       "      <td>[@CONMEBOL, @ChangeorgCO]</td>\n",
       "    </tr>\n",
       "    <tr>\n",
       "      <th>4</th>\n",
       "      <td>Que la @CONMEBOL no realice la Copa América en...</td>\n",
       "      <td>2021-05-19 23:42:06</td>\n",
       "      <td>Que la  no realice la Copa América en Colombia...</td>\n",
       "      <td>[https://t.co/7lkytS8Ulw]</td>\n",
       "      <td>[#NoALaCopaAméricaEnColombia]</td>\n",
       "      <td>[@CONMEBOL, @ChangeorgCO]</td>\n",
       "    </tr>\n",
       "    <tr>\n",
       "      <th>...</th>\n",
       "      <td>...</td>\n",
       "      <td>...</td>\n",
       "      <td>...</td>\n",
       "      <td>...</td>\n",
       "      <td>...</td>\n",
       "      <td>...</td>\n",
       "    </tr>\n",
       "    <tr>\n",
       "      <th>95</th>\n",
       "      <td>Que la @CONMEBOL no realice la Copa América en...</td>\n",
       "      <td>2021-05-19 17:15:00</td>\n",
       "      <td>Que la  no realice la Copa América en Colombia...</td>\n",
       "      <td>[https://t.co/wZto5eQDyn]</td>\n",
       "      <td>[#NoALaCopaAméricaEnColombia]</td>\n",
       "      <td>[@CONMEBOL, @ChangeorgCO]</td>\n",
       "    </tr>\n",
       "    <tr>\n",
       "      <th>96</th>\n",
       "      <td>¡No a la copa América en #Colombia!\\n\\n¡Falta!...</td>\n",
       "      <td>2021-05-19 17:09:07</td>\n",
       "      <td>¡No a la copa América en \\n\\n¡Falta! ❌🚫☢️⚠️\\nN...</td>\n",
       "      <td>[https://t.co/qutrAlTWg5]</td>\n",
       "      <td>[#Colombia!]</td>\n",
       "      <td>[]</td>\n",
       "    </tr>\n",
       "    <tr>\n",
       "      <th>97</th>\n",
       "      <td>#Ahora Las barras sociales se unen pacíficamen...</td>\n",
       "      <td>2021-05-19 17:02:56</td>\n",
       "      <td>Las barras sociales se unen pacíficamente al ...</td>\n",
       "      <td>[https://t.co/2zbPUPpxbu]</td>\n",
       "      <td>[#Ahora, #ParoNacional, #Barranqueños, #ParoNa...</td>\n",
       "      <td>[@PrensaRural, @marchapatriota, @CopaAmerica]</td>\n",
       "    </tr>\n",
       "    <tr>\n",
       "      <th>98</th>\n",
       "      <td>Tocaría poner otras reglas pa la copa América ...</td>\n",
       "      <td>2021-05-19 16:57:13</td>\n",
       "      <td>Tocaría poner otras reglas pa la copa América ...</td>\n",
       "      <td>[]</td>\n",
       "      <td>[]</td>\n",
       "      <td>[]</td>\n",
       "    </tr>\n",
       "    <tr>\n",
       "      <th>99</th>\n",
       "      <td>No a la Copa América en Colombia. Protestan   ...</td>\n",
       "      <td>2021-05-19 16:56:47</td>\n",
       "      <td>No a la Copa América en Colombia. Protestan   ...</td>\n",
       "      <td>[https://t.co/izCkxEKLry]</td>\n",
       "      <td>[]</td>\n",
       "      <td>[]</td>\n",
       "    </tr>\n",
       "  </tbody>\n",
       "</table>\n",
       "<p>100 rows × 6 columns</p>\n",
       "</div>"
      ],
      "text/plain": [
       "                                               tweets                date  \\\n",
       "0   Si con esto no quitan la copa América de Colom... 2021-05-20 00:10:53   \n",
       "1   🇨🇴⚽ El jugador del Al-Hilal de la Liga de Arab... 2021-05-20 00:10:00   \n",
       "2   Que la @CONMEBOL no realice la Copa América en... 2021-05-20 00:02:01   \n",
       "3   #NoALaCopaAmericaEnColombia \\nQue la @CONMEBOL... 2021-05-19 23:55:17   \n",
       "4   Que la @CONMEBOL no realice la Copa América en... 2021-05-19 23:42:06   \n",
       "..                                                ...                 ...   \n",
       "95  Que la @CONMEBOL no realice la Copa América en... 2021-05-19 17:15:00   \n",
       "96  ¡No a la copa América en #Colombia!\\n\\n¡Falta!... 2021-05-19 17:09:07   \n",
       "97  #Ahora Las barras sociales se unen pacíficamen... 2021-05-19 17:02:56   \n",
       "98  Tocaría poner otras reglas pa la copa América ... 2021-05-19 16:57:13   \n",
       "99  No a la Copa América en Colombia. Protestan   ... 2021-05-19 16:56:47   \n",
       "\n",
       "                                         texto_limpio  \\\n",
       "0   Si con esto no quitan la copa América de Colom...   \n",
       "1   🇨🇴⚽ El jugador del Al-Hilal de la Liga de Arab...   \n",
       "2   Que la  no realice la Copa América en Colombia...   \n",
       "3    \\nQue la  no realice la Copa América en Colom...   \n",
       "4   Que la  no realice la Copa América en Colombia...   \n",
       "..                                                ...   \n",
       "95  Que la  no realice la Copa América en Colombia...   \n",
       "96  ¡No a la copa América en \\n\\n¡Falta! ❌🚫☢️⚠️\\nN...   \n",
       "97   Las barras sociales se unen pacíficamente al ...   \n",
       "98  Tocaría poner otras reglas pa la copa América ...   \n",
       "99  No a la Copa América en Colombia. Protestan   ...   \n",
       "\n",
       "                        links  \\\n",
       "0                          []   \n",
       "1   [https://t.co/M43cvmMo8r]   \n",
       "2   [https://t.co/6khZBP94qB]   \n",
       "3   [https://t.co/9j6tHyzxAx]   \n",
       "4   [https://t.co/7lkytS8Ulw]   \n",
       "..                        ...   \n",
       "95  [https://t.co/wZto5eQDyn]   \n",
       "96  [https://t.co/qutrAlTWg5]   \n",
       "97  [https://t.co/2zbPUPpxbu]   \n",
       "98                         []   \n",
       "99  [https://t.co/izCkxEKLry]   \n",
       "\n",
       "                                             hashtags  \\\n",
       "0                                                  []   \n",
       "1                                                  []   \n",
       "2                       [#NoALaCopaAméricaEnColombia]   \n",
       "3   [#NoALaCopaAmericaEnColombia, #NoALaCopaAméric...   \n",
       "4                       [#NoALaCopaAméricaEnColombia]   \n",
       "..                                                ...   \n",
       "95                      [#NoALaCopaAméricaEnColombia]   \n",
       "96                                       [#Colombia!]   \n",
       "97  [#Ahora, #ParoNacional, #Barranqueños, #ParoNa...   \n",
       "98                                                 []   \n",
       "99                                                 []   \n",
       "\n",
       "                                         mentions  \n",
       "0                                              []  \n",
       "1                                  [@VBarCaracol]  \n",
       "2                       [@CONMEBOL, @ChangeorgCO]  \n",
       "3                       [@CONMEBOL, @ChangeorgCO]  \n",
       "4                       [@CONMEBOL, @ChangeorgCO]  \n",
       "..                                            ...  \n",
       "95                      [@CONMEBOL, @ChangeorgCO]  \n",
       "96                                             []  \n",
       "97  [@PrensaRural, @marchapatriota, @CopaAmerica]  \n",
       "98                                             []  \n",
       "99                                             []  \n",
       "\n",
       "[100 rows x 6 columns]"
      ]
     },
     "execution_count": 10,
     "metadata": {},
     "output_type": "execute_result"
    }
   ],
   "source": [
    "import re \n",
    "\n",
    "pattern1 = '?P<pic>pic.twitter.com/[^\\s]+'\n",
    "pattern2 = '?P<url>https?://[^\\s]+'\n",
    "\n",
    "def text_clean(row):\n",
    "    text = row['tweets']\n",
    "    \n",
    "    links = [tuple(j for j in i if j)[-1] for i in re.findall(f\"({pattern1})|({pattern2})\",text)]\n",
    "    for link in links:\n",
    "        text = text.replace(link,\"\")\n",
    "    \n",
    "    hashtags = [interaction for interaction in text.split() if interaction.startswith(\"#\")]\n",
    "    for hashtag in hashtags:\n",
    "        text = text.replace(hashtag, \"\")\n",
    "        \n",
    "    mentions = [interaction for interaction in text.split() if interaction.startswith(\"@\")]\n",
    "    for mention in mentions:\n",
    "        text = text.replace(mention, \"\")\n",
    "        \n",
    "    return text, links, hashtags, mentions\n",
    "  \n",
    "  \n",
    "data[['texto_limpio', 'links', 'hashtags', 'mentions']] = data.apply(text_clean, axis=1, result_type='expand')\n",
    "data\n"
   ]
  },
  {
   "cell_type": "code",
   "execution_count": 11,
   "metadata": {},
   "outputs": [
    {
     "data": {
      "text/html": [
       "<div>\n",
       "<style scoped>\n",
       "    .dataframe tbody tr th:only-of-type {\n",
       "        vertical-align: middle;\n",
       "    }\n",
       "\n",
       "    .dataframe tbody tr th {\n",
       "        vertical-align: top;\n",
       "    }\n",
       "\n",
       "    .dataframe thead th {\n",
       "        text-align: right;\n",
       "    }\n",
       "</style>\n",
       "<table border=\"1\" class=\"dataframe\">\n",
       "  <thead>\n",
       "    <tr style=\"text-align: right;\">\n",
       "      <th></th>\n",
       "      <th>tweets</th>\n",
       "      <th>date</th>\n",
       "      <th>texto_limpio</th>\n",
       "      <th>links</th>\n",
       "      <th>hashtags</th>\n",
       "      <th>mentions</th>\n",
       "      <th>emojis</th>\n",
       "    </tr>\n",
       "  </thead>\n",
       "  <tbody>\n",
       "    <tr>\n",
       "      <th>0</th>\n",
       "      <td>Si con esto no quitan la copa América de Colom...</td>\n",
       "      <td>2021-05-20 00:10:53</td>\n",
       "      <td>Si con esto no quitan la copa América de Colom...</td>\n",
       "      <td>[]</td>\n",
       "      <td>[]</td>\n",
       "      <td>[]</td>\n",
       "      <td>[]</td>\n",
       "    </tr>\n",
       "    <tr>\n",
       "      <th>1</th>\n",
       "      <td>🇨🇴⚽ El jugador del Al-Hilal de la Liga de Arab...</td>\n",
       "      <td>2021-05-20 00:10:00</td>\n",
       "      <td>🇨🇴⚽ El jugador del Al-Hilal de la Liga de Arab...</td>\n",
       "      <td>[https://t.co/M43cvmMo8r]</td>\n",
       "      <td>[]</td>\n",
       "      <td>[@VBarCaracol]</td>\n",
       "      <td>[⚽, 📻]</td>\n",
       "    </tr>\n",
       "    <tr>\n",
       "      <th>2</th>\n",
       "      <td>Que la @CONMEBOL no realice la Copa América en...</td>\n",
       "      <td>2021-05-20 00:02:01</td>\n",
       "      <td>Que la  no realice la Copa América en Colombia...</td>\n",
       "      <td>[https://t.co/6khZBP94qB]</td>\n",
       "      <td>[#NoALaCopaAméricaEnColombia]</td>\n",
       "      <td>[@CONMEBOL, @ChangeorgCO]</td>\n",
       "      <td>[]</td>\n",
       "    </tr>\n",
       "    <tr>\n",
       "      <th>3</th>\n",
       "      <td>#NoALaCopaAmericaEnColombia \\nQue la @CONMEBOL...</td>\n",
       "      <td>2021-05-19 23:55:17</td>\n",
       "      <td>\\nQue la  no realice la Copa América en Colom...</td>\n",
       "      <td>[https://t.co/9j6tHyzxAx]</td>\n",
       "      <td>[#NoALaCopaAmericaEnColombia, #NoALaCopaAméric...</td>\n",
       "      <td>[@CONMEBOL, @ChangeorgCO]</td>\n",
       "      <td>[]</td>\n",
       "    </tr>\n",
       "    <tr>\n",
       "      <th>4</th>\n",
       "      <td>Que la @CONMEBOL no realice la Copa América en...</td>\n",
       "      <td>2021-05-19 23:42:06</td>\n",
       "      <td>Que la  no realice la Copa América en Colombia...</td>\n",
       "      <td>[https://t.co/7lkytS8Ulw]</td>\n",
       "      <td>[#NoALaCopaAméricaEnColombia]</td>\n",
       "      <td>[@CONMEBOL, @ChangeorgCO]</td>\n",
       "      <td>[]</td>\n",
       "    </tr>\n",
       "  </tbody>\n",
       "</table>\n",
       "</div>"
      ],
      "text/plain": [
       "                                              tweets                date  \\\n",
       "0  Si con esto no quitan la copa América de Colom... 2021-05-20 00:10:53   \n",
       "1  🇨🇴⚽ El jugador del Al-Hilal de la Liga de Arab... 2021-05-20 00:10:00   \n",
       "2  Que la @CONMEBOL no realice la Copa América en... 2021-05-20 00:02:01   \n",
       "3  #NoALaCopaAmericaEnColombia \\nQue la @CONMEBOL... 2021-05-19 23:55:17   \n",
       "4  Que la @CONMEBOL no realice la Copa América en... 2021-05-19 23:42:06   \n",
       "\n",
       "                                        texto_limpio  \\\n",
       "0  Si con esto no quitan la copa América de Colom...   \n",
       "1  🇨🇴⚽ El jugador del Al-Hilal de la Liga de Arab...   \n",
       "2  Que la  no realice la Copa América en Colombia...   \n",
       "3   \\nQue la  no realice la Copa América en Colom...   \n",
       "4  Que la  no realice la Copa América en Colombia...   \n",
       "\n",
       "                       links  \\\n",
       "0                         []   \n",
       "1  [https://t.co/M43cvmMo8r]   \n",
       "2  [https://t.co/6khZBP94qB]   \n",
       "3  [https://t.co/9j6tHyzxAx]   \n",
       "4  [https://t.co/7lkytS8Ulw]   \n",
       "\n",
       "                                            hashtags  \\\n",
       "0                                                 []   \n",
       "1                                                 []   \n",
       "2                      [#NoALaCopaAméricaEnColombia]   \n",
       "3  [#NoALaCopaAmericaEnColombia, #NoALaCopaAméric...   \n",
       "4                      [#NoALaCopaAméricaEnColombia]   \n",
       "\n",
       "                    mentions  emojis  \n",
       "0                         []      []  \n",
       "1             [@VBarCaracol]  [⚽, 📻]  \n",
       "2  [@CONMEBOL, @ChangeorgCO]      []  \n",
       "3  [@CONMEBOL, @ChangeorgCO]      []  \n",
       "4  [@CONMEBOL, @ChangeorgCO]      []  "
      ]
     },
     "execution_count": 11,
     "metadata": {},
     "output_type": "execute_result"
    }
   ],
   "source": [
    "\n",
    "import regex\n",
    "import emoji\n",
    "\n",
    "def get_emojis(text):\n",
    "    emoji_list = []\n",
    "    data = regex.findall(r'\\X', text)\n",
    "    for word in data:\n",
    "        if any(char in emoji.UNICODE_EMOJI['en'] for char in word):\n",
    "            emoji_list.append(word)\n",
    "\n",
    "    return emoji_list\n",
    "  \n",
    "  \n",
    "\n",
    "data['emojis'] = data['texto_limpio'].apply(lambda text: get_emojis(text))\n",
    "data.head()"
   ]
  },
  {
   "cell_type": "markdown",
   "metadata": {},
   "source": [
    "###  `[25 pts]` Punto 2: Hacer una visualización sobre esos tuits"
   ]
  },
  {
   "cell_type": "code",
   "execution_count": 13,
   "metadata": {},
   "outputs": [
    {
     "data": {
      "text/html": [
       "<div>\n",
       "<style scoped>\n",
       "    .dataframe tbody tr th:only-of-type {\n",
       "        vertical-align: middle;\n",
       "    }\n",
       "\n",
       "    .dataframe tbody tr th {\n",
       "        vertical-align: top;\n",
       "    }\n",
       "\n",
       "    .dataframe thead th {\n",
       "        text-align: right;\n",
       "    }\n",
       "</style>\n",
       "<table border=\"1\" class=\"dataframe\">\n",
       "  <thead>\n",
       "    <tr style=\"text-align: right;\">\n",
       "      <th></th>\n",
       "      <th>fecha</th>\n",
       "      <th>cnt</th>\n",
       "    </tr>\n",
       "  </thead>\n",
       "  <tbody>\n",
       "    <tr>\n",
       "      <th>0</th>\n",
       "      <td>2021-05-19</td>\n",
       "      <td>97</td>\n",
       "    </tr>\n",
       "    <tr>\n",
       "      <th>1</th>\n",
       "      <td>2021-05-20</td>\n",
       "      <td>3</td>\n",
       "    </tr>\n",
       "  </tbody>\n",
       "</table>\n",
       "</div>"
      ],
      "text/plain": [
       "        fecha  cnt\n",
       "0  2021-05-19   97\n",
       "1  2021-05-20    3"
      ]
     },
     "execution_count": 13,
     "metadata": {},
     "output_type": "execute_result"
    }
   ],
   "source": [
    "data['fecha'] = data.date.dt.date\n",
    "temp = pd.DataFrame(data.fecha.value_counts()).reset_index()\n",
    "temp.columns = ['fecha', 'cnt']\n",
    "temp = temp.sort_values('fecha')\n",
    "temp"
   ]
  },
  {
   "cell_type": "code",
   "execution_count": 14,
   "metadata": {},
   "outputs": [
    {
     "data": {
      "text/html": [
       "        <script type=\"text/javascript\">\n",
       "        window.PlotlyConfig = {MathJaxConfig: 'local'};\n",
       "        if (window.MathJax) {MathJax.Hub.Config({SVG: {font: \"STIX-Web\"}});}\n",
       "        if (typeof require !== 'undefined') {\n",
       "        require.undef(\"plotly\");\n",
       "        requirejs.config({\n",
       "            paths: {\n",
       "                'plotly': ['https://cdn.plot.ly/plotly-latest.min']\n",
       "            }\n",
       "        });\n",
       "        require(['plotly'], function(Plotly) {\n",
       "            window._Plotly = Plotly;\n",
       "        });\n",
       "        }\n",
       "        </script>\n",
       "        "
      ]
     },
     "metadata": {},
     "output_type": "display_data"
    }
   ],
   "source": [
    "import plotly.io as pio\n",
    "import plotly.express as px\n",
    "import plotly.graph_objs as go\n",
    "from plotly.offline import download_plotlyjs, init_notebook_mode, plot, iplot\n",
    "\n",
    "import matplotlib.pyplot as plt\n",
    "%matplotlib inline\n",
    "init_notebook_mode(connected=True)"
   ]
  },
  {
   "cell_type": "code",
   "execution_count": 15,
   "metadata": {},
   "outputs": [
    {
     "data": {
      "application/vnd.plotly.v1+json": {
       "config": {
        "linkText": "Export to plot.ly",
        "plotlyServerURL": "https://plot.ly",
        "showLink": false
       },
       "data": [
        {
         "hoverinfo": "text",
         "line": {
          "color": "#1DA1F2"
         },
         "mode": "lines+markers",
         "name": "Días",
         "text": [
          "Fecha: 2021-05-19<br>Tuits: 97",
          "Fecha: 2021-05-20<br>Tuits: 3"
         ],
         "type": "scatter",
         "x": [
          "2021-05-19",
          "2021-05-20"
         ],
         "y": [
          97,
          3
         ]
        }
       ],
       "layout": {
        "template": {
         "data": {
          "bar": [
           {
            "error_x": {
             "color": "#2a3f5f"
            },
            "error_y": {
             "color": "#2a3f5f"
            },
            "marker": {
             "line": {
              "color": "#E5ECF6",
              "width": 0.5
             }
            },
            "type": "bar"
           }
          ],
          "barpolar": [
           {
            "marker": {
             "line": {
              "color": "#E5ECF6",
              "width": 0.5
             }
            },
            "type": "barpolar"
           }
          ],
          "carpet": [
           {
            "aaxis": {
             "endlinecolor": "#2a3f5f",
             "gridcolor": "white",
             "linecolor": "white",
             "minorgridcolor": "white",
             "startlinecolor": "#2a3f5f"
            },
            "baxis": {
             "endlinecolor": "#2a3f5f",
             "gridcolor": "white",
             "linecolor": "white",
             "minorgridcolor": "white",
             "startlinecolor": "#2a3f5f"
            },
            "type": "carpet"
           }
          ],
          "choropleth": [
           {
            "colorbar": {
             "outlinewidth": 0,
             "ticks": ""
            },
            "type": "choropleth"
           }
          ],
          "contour": [
           {
            "colorbar": {
             "outlinewidth": 0,
             "ticks": ""
            },
            "colorscale": [
             [
              0,
              "#0d0887"
             ],
             [
              0.1111111111111111,
              "#46039f"
             ],
             [
              0.2222222222222222,
              "#7201a8"
             ],
             [
              0.3333333333333333,
              "#9c179e"
             ],
             [
              0.4444444444444444,
              "#bd3786"
             ],
             [
              0.5555555555555556,
              "#d8576b"
             ],
             [
              0.6666666666666666,
              "#ed7953"
             ],
             [
              0.7777777777777778,
              "#fb9f3a"
             ],
             [
              0.8888888888888888,
              "#fdca26"
             ],
             [
              1,
              "#f0f921"
             ]
            ],
            "type": "contour"
           }
          ],
          "contourcarpet": [
           {
            "colorbar": {
             "outlinewidth": 0,
             "ticks": ""
            },
            "type": "contourcarpet"
           }
          ],
          "heatmap": [
           {
            "colorbar": {
             "outlinewidth": 0,
             "ticks": ""
            },
            "colorscale": [
             [
              0,
              "#0d0887"
             ],
             [
              0.1111111111111111,
              "#46039f"
             ],
             [
              0.2222222222222222,
              "#7201a8"
             ],
             [
              0.3333333333333333,
              "#9c179e"
             ],
             [
              0.4444444444444444,
              "#bd3786"
             ],
             [
              0.5555555555555556,
              "#d8576b"
             ],
             [
              0.6666666666666666,
              "#ed7953"
             ],
             [
              0.7777777777777778,
              "#fb9f3a"
             ],
             [
              0.8888888888888888,
              "#fdca26"
             ],
             [
              1,
              "#f0f921"
             ]
            ],
            "type": "heatmap"
           }
          ],
          "heatmapgl": [
           {
            "colorbar": {
             "outlinewidth": 0,
             "ticks": ""
            },
            "colorscale": [
             [
              0,
              "#0d0887"
             ],
             [
              0.1111111111111111,
              "#46039f"
             ],
             [
              0.2222222222222222,
              "#7201a8"
             ],
             [
              0.3333333333333333,
              "#9c179e"
             ],
             [
              0.4444444444444444,
              "#bd3786"
             ],
             [
              0.5555555555555556,
              "#d8576b"
             ],
             [
              0.6666666666666666,
              "#ed7953"
             ],
             [
              0.7777777777777778,
              "#fb9f3a"
             ],
             [
              0.8888888888888888,
              "#fdca26"
             ],
             [
              1,
              "#f0f921"
             ]
            ],
            "type": "heatmapgl"
           }
          ],
          "histogram": [
           {
            "marker": {
             "colorbar": {
              "outlinewidth": 0,
              "ticks": ""
             }
            },
            "type": "histogram"
           }
          ],
          "histogram2d": [
           {
            "colorbar": {
             "outlinewidth": 0,
             "ticks": ""
            },
            "colorscale": [
             [
              0,
              "#0d0887"
             ],
             [
              0.1111111111111111,
              "#46039f"
             ],
             [
              0.2222222222222222,
              "#7201a8"
             ],
             [
              0.3333333333333333,
              "#9c179e"
             ],
             [
              0.4444444444444444,
              "#bd3786"
             ],
             [
              0.5555555555555556,
              "#d8576b"
             ],
             [
              0.6666666666666666,
              "#ed7953"
             ],
             [
              0.7777777777777778,
              "#fb9f3a"
             ],
             [
              0.8888888888888888,
              "#fdca26"
             ],
             [
              1,
              "#f0f921"
             ]
            ],
            "type": "histogram2d"
           }
          ],
          "histogram2dcontour": [
           {
            "colorbar": {
             "outlinewidth": 0,
             "ticks": ""
            },
            "colorscale": [
             [
              0,
              "#0d0887"
             ],
             [
              0.1111111111111111,
              "#46039f"
             ],
             [
              0.2222222222222222,
              "#7201a8"
             ],
             [
              0.3333333333333333,
              "#9c179e"
             ],
             [
              0.4444444444444444,
              "#bd3786"
             ],
             [
              0.5555555555555556,
              "#d8576b"
             ],
             [
              0.6666666666666666,
              "#ed7953"
             ],
             [
              0.7777777777777778,
              "#fb9f3a"
             ],
             [
              0.8888888888888888,
              "#fdca26"
             ],
             [
              1,
              "#f0f921"
             ]
            ],
            "type": "histogram2dcontour"
           }
          ],
          "mesh3d": [
           {
            "colorbar": {
             "outlinewidth": 0,
             "ticks": ""
            },
            "type": "mesh3d"
           }
          ],
          "parcoords": [
           {
            "line": {
             "colorbar": {
              "outlinewidth": 0,
              "ticks": ""
             }
            },
            "type": "parcoords"
           }
          ],
          "pie": [
           {
            "automargin": true,
            "type": "pie"
           }
          ],
          "scatter": [
           {
            "marker": {
             "colorbar": {
              "outlinewidth": 0,
              "ticks": ""
             }
            },
            "type": "scatter"
           }
          ],
          "scatter3d": [
           {
            "line": {
             "colorbar": {
              "outlinewidth": 0,
              "ticks": ""
             }
            },
            "marker": {
             "colorbar": {
              "outlinewidth": 0,
              "ticks": ""
             }
            },
            "type": "scatter3d"
           }
          ],
          "scattercarpet": [
           {
            "marker": {
             "colorbar": {
              "outlinewidth": 0,
              "ticks": ""
             }
            },
            "type": "scattercarpet"
           }
          ],
          "scattergeo": [
           {
            "marker": {
             "colorbar": {
              "outlinewidth": 0,
              "ticks": ""
             }
            },
            "type": "scattergeo"
           }
          ],
          "scattergl": [
           {
            "marker": {
             "colorbar": {
              "outlinewidth": 0,
              "ticks": ""
             }
            },
            "type": "scattergl"
           }
          ],
          "scattermapbox": [
           {
            "marker": {
             "colorbar": {
              "outlinewidth": 0,
              "ticks": ""
             }
            },
            "type": "scattermapbox"
           }
          ],
          "scatterpolar": [
           {
            "marker": {
             "colorbar": {
              "outlinewidth": 0,
              "ticks": ""
             }
            },
            "type": "scatterpolar"
           }
          ],
          "scatterpolargl": [
           {
            "marker": {
             "colorbar": {
              "outlinewidth": 0,
              "ticks": ""
             }
            },
            "type": "scatterpolargl"
           }
          ],
          "scatterternary": [
           {
            "marker": {
             "colorbar": {
              "outlinewidth": 0,
              "ticks": ""
             }
            },
            "type": "scatterternary"
           }
          ],
          "surface": [
           {
            "colorbar": {
             "outlinewidth": 0,
             "ticks": ""
            },
            "colorscale": [
             [
              0,
              "#0d0887"
             ],
             [
              0.1111111111111111,
              "#46039f"
             ],
             [
              0.2222222222222222,
              "#7201a8"
             ],
             [
              0.3333333333333333,
              "#9c179e"
             ],
             [
              0.4444444444444444,
              "#bd3786"
             ],
             [
              0.5555555555555556,
              "#d8576b"
             ],
             [
              0.6666666666666666,
              "#ed7953"
             ],
             [
              0.7777777777777778,
              "#fb9f3a"
             ],
             [
              0.8888888888888888,
              "#fdca26"
             ],
             [
              1,
              "#f0f921"
             ]
            ],
            "type": "surface"
           }
          ],
          "table": [
           {
            "cells": {
             "fill": {
              "color": "#EBF0F8"
             },
             "line": {
              "color": "white"
             }
            },
            "header": {
             "fill": {
              "color": "#C8D4E3"
             },
             "line": {
              "color": "white"
             }
            },
            "type": "table"
           }
          ]
         },
         "layout": {
          "annotationdefaults": {
           "arrowcolor": "#2a3f5f",
           "arrowhead": 0,
           "arrowwidth": 1
          },
          "autotypenumbers": "strict",
          "coloraxis": {
           "colorbar": {
            "outlinewidth": 0,
            "ticks": ""
           }
          },
          "colorscale": {
           "diverging": [
            [
             0,
             "#8e0152"
            ],
            [
             0.1,
             "#c51b7d"
            ],
            [
             0.2,
             "#de77ae"
            ],
            [
             0.3,
             "#f1b6da"
            ],
            [
             0.4,
             "#fde0ef"
            ],
            [
             0.5,
             "#f7f7f7"
            ],
            [
             0.6,
             "#e6f5d0"
            ],
            [
             0.7,
             "#b8e186"
            ],
            [
             0.8,
             "#7fbc41"
            ],
            [
             0.9,
             "#4d9221"
            ],
            [
             1,
             "#276419"
            ]
           ],
           "sequential": [
            [
             0,
             "#0d0887"
            ],
            [
             0.1111111111111111,
             "#46039f"
            ],
            [
             0.2222222222222222,
             "#7201a8"
            ],
            [
             0.3333333333333333,
             "#9c179e"
            ],
            [
             0.4444444444444444,
             "#bd3786"
            ],
            [
             0.5555555555555556,
             "#d8576b"
            ],
            [
             0.6666666666666666,
             "#ed7953"
            ],
            [
             0.7777777777777778,
             "#fb9f3a"
            ],
            [
             0.8888888888888888,
             "#fdca26"
            ],
            [
             1,
             "#f0f921"
            ]
           ],
           "sequentialminus": [
            [
             0,
             "#0d0887"
            ],
            [
             0.1111111111111111,
             "#46039f"
            ],
            [
             0.2222222222222222,
             "#7201a8"
            ],
            [
             0.3333333333333333,
             "#9c179e"
            ],
            [
             0.4444444444444444,
             "#bd3786"
            ],
            [
             0.5555555555555556,
             "#d8576b"
            ],
            [
             0.6666666666666666,
             "#ed7953"
            ],
            [
             0.7777777777777778,
             "#fb9f3a"
            ],
            [
             0.8888888888888888,
             "#fdca26"
            ],
            [
             1,
             "#f0f921"
            ]
           ]
          },
          "colorway": [
           "#636efa",
           "#EF553B",
           "#00cc96",
           "#ab63fa",
           "#FFA15A",
           "#19d3f3",
           "#FF6692",
           "#B6E880",
           "#FF97FF",
           "#FECB52"
          ],
          "font": {
           "color": "#2a3f5f"
          },
          "geo": {
           "bgcolor": "white",
           "lakecolor": "white",
           "landcolor": "#E5ECF6",
           "showlakes": true,
           "showland": true,
           "subunitcolor": "white"
          },
          "hoverlabel": {
           "align": "left"
          },
          "hovermode": "closest",
          "mapbox": {
           "style": "light"
          },
          "paper_bgcolor": "white",
          "plot_bgcolor": "#E5ECF6",
          "polar": {
           "angularaxis": {
            "gridcolor": "white",
            "linecolor": "white",
            "ticks": ""
           },
           "bgcolor": "#E5ECF6",
           "radialaxis": {
            "gridcolor": "white",
            "linecolor": "white",
            "ticks": ""
           }
          },
          "scene": {
           "xaxis": {
            "backgroundcolor": "#E5ECF6",
            "gridcolor": "white",
            "gridwidth": 2,
            "linecolor": "white",
            "showbackground": true,
            "ticks": "",
            "zerolinecolor": "white"
           },
           "yaxis": {
            "backgroundcolor": "#E5ECF6",
            "gridcolor": "white",
            "gridwidth": 2,
            "linecolor": "white",
            "showbackground": true,
            "ticks": "",
            "zerolinecolor": "white"
           },
           "zaxis": {
            "backgroundcolor": "#E5ECF6",
            "gridcolor": "white",
            "gridwidth": 2,
            "linecolor": "white",
            "showbackground": true,
            "ticks": "",
            "zerolinecolor": "white"
           }
          },
          "shapedefaults": {
           "line": {
            "color": "#2a3f5f"
           }
          },
          "ternary": {
           "aaxis": {
            "gridcolor": "white",
            "linecolor": "white",
            "ticks": ""
           },
           "baxis": {
            "gridcolor": "white",
            "linecolor": "white",
            "ticks": ""
           },
           "bgcolor": "#E5ECF6",
           "caxis": {
            "gridcolor": "white",
            "linecolor": "white",
            "ticks": ""
           }
          },
          "title": {
           "x": 0.05
          },
          "xaxis": {
           "automargin": true,
           "gridcolor": "white",
           "linecolor": "white",
           "ticks": "",
           "title": {
            "standoff": 15
           },
           "zerolinecolor": "white",
           "zerolinewidth": 2
          },
          "yaxis": {
           "automargin": true,
           "gridcolor": "white",
           "linecolor": "white",
           "ticks": "",
           "title": {
            "standoff": 15
           },
           "zerolinecolor": "white",
           "zerolinewidth": 2
          }
         }
        },
        "title": {
         "text": "Número de tuits por día"
        }
       }
      },
      "text/html": [
       "<div>                            <div id=\"c42d084c-dd3e-499f-8939-cb138e762981\" class=\"plotly-graph-div\" style=\"height:525px; width:100%;\"></div>            <script type=\"text/javascript\">                require([\"plotly\"], function(Plotly) {                    window.PLOTLYENV=window.PLOTLYENV || {};                                    if (document.getElementById(\"c42d084c-dd3e-499f-8939-cb138e762981\")) {                    Plotly.newPlot(                        \"c42d084c-dd3e-499f-8939-cb138e762981\",                        [{\"hoverinfo\": \"text\", \"line\": {\"color\": \"#1DA1F2\"}, \"mode\": \"lines+markers\", \"name\": \"D\\u00edas\", \"text\": [\"Fecha: 2021-05-19<br>Tuits: 97\", \"Fecha: 2021-05-20<br>Tuits: 3\"], \"type\": \"scatter\", \"x\": [\"2021-05-19\", \"2021-05-20\"], \"y\": [97, 3]}],                        {\"template\": {\"data\": {\"bar\": [{\"error_x\": {\"color\": \"#2a3f5f\"}, \"error_y\": {\"color\": \"#2a3f5f\"}, \"marker\": {\"line\": {\"color\": \"#E5ECF6\", \"width\": 0.5}}, \"type\": \"bar\"}], \"barpolar\": [{\"marker\": {\"line\": {\"color\": \"#E5ECF6\", \"width\": 0.5}}, \"type\": \"barpolar\"}], \"carpet\": [{\"aaxis\": {\"endlinecolor\": \"#2a3f5f\", \"gridcolor\": \"white\", \"linecolor\": \"white\", \"minorgridcolor\": \"white\", \"startlinecolor\": \"#2a3f5f\"}, \"baxis\": {\"endlinecolor\": \"#2a3f5f\", \"gridcolor\": \"white\", \"linecolor\": \"white\", \"minorgridcolor\": \"white\", \"startlinecolor\": \"#2a3f5f\"}, \"type\": \"carpet\"}], \"choropleth\": [{\"colorbar\": {\"outlinewidth\": 0, \"ticks\": \"\"}, \"type\": \"choropleth\"}], \"contour\": [{\"colorbar\": {\"outlinewidth\": 0, \"ticks\": \"\"}, \"colorscale\": [[0.0, \"#0d0887\"], [0.1111111111111111, \"#46039f\"], [0.2222222222222222, \"#7201a8\"], [0.3333333333333333, \"#9c179e\"], [0.4444444444444444, \"#bd3786\"], [0.5555555555555556, \"#d8576b\"], [0.6666666666666666, \"#ed7953\"], [0.7777777777777778, \"#fb9f3a\"], [0.8888888888888888, \"#fdca26\"], [1.0, \"#f0f921\"]], \"type\": \"contour\"}], \"contourcarpet\": [{\"colorbar\": {\"outlinewidth\": 0, \"ticks\": \"\"}, \"type\": \"contourcarpet\"}], \"heatmap\": [{\"colorbar\": {\"outlinewidth\": 0, \"ticks\": \"\"}, \"colorscale\": [[0.0, \"#0d0887\"], [0.1111111111111111, \"#46039f\"], [0.2222222222222222, \"#7201a8\"], [0.3333333333333333, \"#9c179e\"], [0.4444444444444444, \"#bd3786\"], [0.5555555555555556, \"#d8576b\"], [0.6666666666666666, \"#ed7953\"], [0.7777777777777778, \"#fb9f3a\"], [0.8888888888888888, \"#fdca26\"], [1.0, \"#f0f921\"]], \"type\": \"heatmap\"}], \"heatmapgl\": [{\"colorbar\": {\"outlinewidth\": 0, \"ticks\": \"\"}, \"colorscale\": [[0.0, \"#0d0887\"], [0.1111111111111111, \"#46039f\"], [0.2222222222222222, \"#7201a8\"], [0.3333333333333333, \"#9c179e\"], [0.4444444444444444, \"#bd3786\"], [0.5555555555555556, \"#d8576b\"], [0.6666666666666666, \"#ed7953\"], [0.7777777777777778, \"#fb9f3a\"], [0.8888888888888888, \"#fdca26\"], [1.0, \"#f0f921\"]], \"type\": \"heatmapgl\"}], \"histogram\": [{\"marker\": {\"colorbar\": {\"outlinewidth\": 0, \"ticks\": \"\"}}, \"type\": \"histogram\"}], \"histogram2d\": [{\"colorbar\": {\"outlinewidth\": 0, \"ticks\": \"\"}, \"colorscale\": [[0.0, \"#0d0887\"], [0.1111111111111111, \"#46039f\"], [0.2222222222222222, \"#7201a8\"], [0.3333333333333333, \"#9c179e\"], [0.4444444444444444, \"#bd3786\"], [0.5555555555555556, \"#d8576b\"], [0.6666666666666666, \"#ed7953\"], [0.7777777777777778, \"#fb9f3a\"], [0.8888888888888888, \"#fdca26\"], [1.0, \"#f0f921\"]], \"type\": \"histogram2d\"}], \"histogram2dcontour\": [{\"colorbar\": {\"outlinewidth\": 0, \"ticks\": \"\"}, \"colorscale\": [[0.0, \"#0d0887\"], [0.1111111111111111, \"#46039f\"], [0.2222222222222222, \"#7201a8\"], [0.3333333333333333, \"#9c179e\"], [0.4444444444444444, \"#bd3786\"], [0.5555555555555556, \"#d8576b\"], [0.6666666666666666, \"#ed7953\"], [0.7777777777777778, \"#fb9f3a\"], [0.8888888888888888, \"#fdca26\"], [1.0, \"#f0f921\"]], \"type\": \"histogram2dcontour\"}], \"mesh3d\": [{\"colorbar\": {\"outlinewidth\": 0, \"ticks\": \"\"}, \"type\": \"mesh3d\"}], \"parcoords\": [{\"line\": {\"colorbar\": {\"outlinewidth\": 0, \"ticks\": \"\"}}, \"type\": \"parcoords\"}], \"pie\": [{\"automargin\": true, \"type\": \"pie\"}], \"scatter\": [{\"marker\": {\"colorbar\": {\"outlinewidth\": 0, \"ticks\": \"\"}}, \"type\": \"scatter\"}], \"scatter3d\": [{\"line\": {\"colorbar\": {\"outlinewidth\": 0, \"ticks\": \"\"}}, \"marker\": {\"colorbar\": {\"outlinewidth\": 0, \"ticks\": \"\"}}, \"type\": \"scatter3d\"}], \"scattercarpet\": [{\"marker\": {\"colorbar\": {\"outlinewidth\": 0, \"ticks\": \"\"}}, \"type\": \"scattercarpet\"}], \"scattergeo\": [{\"marker\": {\"colorbar\": {\"outlinewidth\": 0, \"ticks\": \"\"}}, \"type\": \"scattergeo\"}], \"scattergl\": [{\"marker\": {\"colorbar\": {\"outlinewidth\": 0, \"ticks\": \"\"}}, \"type\": \"scattergl\"}], \"scattermapbox\": [{\"marker\": {\"colorbar\": {\"outlinewidth\": 0, \"ticks\": \"\"}}, \"type\": \"scattermapbox\"}], \"scatterpolar\": [{\"marker\": {\"colorbar\": {\"outlinewidth\": 0, \"ticks\": \"\"}}, \"type\": \"scatterpolar\"}], \"scatterpolargl\": [{\"marker\": {\"colorbar\": {\"outlinewidth\": 0, \"ticks\": \"\"}}, \"type\": \"scatterpolargl\"}], \"scatterternary\": [{\"marker\": {\"colorbar\": {\"outlinewidth\": 0, \"ticks\": \"\"}}, \"type\": \"scatterternary\"}], \"surface\": [{\"colorbar\": {\"outlinewidth\": 0, \"ticks\": \"\"}, \"colorscale\": [[0.0, \"#0d0887\"], [0.1111111111111111, \"#46039f\"], [0.2222222222222222, \"#7201a8\"], [0.3333333333333333, \"#9c179e\"], [0.4444444444444444, \"#bd3786\"], [0.5555555555555556, \"#d8576b\"], [0.6666666666666666, \"#ed7953\"], [0.7777777777777778, \"#fb9f3a\"], [0.8888888888888888, \"#fdca26\"], [1.0, \"#f0f921\"]], \"type\": \"surface\"}], \"table\": [{\"cells\": {\"fill\": {\"color\": \"#EBF0F8\"}, \"line\": {\"color\": \"white\"}}, \"header\": {\"fill\": {\"color\": \"#C8D4E3\"}, \"line\": {\"color\": \"white\"}}, \"type\": \"table\"}]}, \"layout\": {\"annotationdefaults\": {\"arrowcolor\": \"#2a3f5f\", \"arrowhead\": 0, \"arrowwidth\": 1}, \"autotypenumbers\": \"strict\", \"coloraxis\": {\"colorbar\": {\"outlinewidth\": 0, \"ticks\": \"\"}}, \"colorscale\": {\"diverging\": [[0, \"#8e0152\"], [0.1, \"#c51b7d\"], [0.2, \"#de77ae\"], [0.3, \"#f1b6da\"], [0.4, \"#fde0ef\"], [0.5, \"#f7f7f7\"], [0.6, \"#e6f5d0\"], [0.7, \"#b8e186\"], [0.8, \"#7fbc41\"], [0.9, \"#4d9221\"], [1, \"#276419\"]], \"sequential\": [[0.0, \"#0d0887\"], [0.1111111111111111, \"#46039f\"], [0.2222222222222222, \"#7201a8\"], [0.3333333333333333, \"#9c179e\"], [0.4444444444444444, \"#bd3786\"], [0.5555555555555556, \"#d8576b\"], [0.6666666666666666, \"#ed7953\"], [0.7777777777777778, \"#fb9f3a\"], [0.8888888888888888, \"#fdca26\"], [1.0, \"#f0f921\"]], \"sequentialminus\": [[0.0, \"#0d0887\"], [0.1111111111111111, \"#46039f\"], [0.2222222222222222, \"#7201a8\"], [0.3333333333333333, \"#9c179e\"], [0.4444444444444444, \"#bd3786\"], [0.5555555555555556, \"#d8576b\"], [0.6666666666666666, \"#ed7953\"], [0.7777777777777778, \"#fb9f3a\"], [0.8888888888888888, \"#fdca26\"], [1.0, \"#f0f921\"]]}, \"colorway\": [\"#636efa\", \"#EF553B\", \"#00cc96\", \"#ab63fa\", \"#FFA15A\", \"#19d3f3\", \"#FF6692\", \"#B6E880\", \"#FF97FF\", \"#FECB52\"], \"font\": {\"color\": \"#2a3f5f\"}, \"geo\": {\"bgcolor\": \"white\", \"lakecolor\": \"white\", \"landcolor\": \"#E5ECF6\", \"showlakes\": true, \"showland\": true, \"subunitcolor\": \"white\"}, \"hoverlabel\": {\"align\": \"left\"}, \"hovermode\": \"closest\", \"mapbox\": {\"style\": \"light\"}, \"paper_bgcolor\": \"white\", \"plot_bgcolor\": \"#E5ECF6\", \"polar\": {\"angularaxis\": {\"gridcolor\": \"white\", \"linecolor\": \"white\", \"ticks\": \"\"}, \"bgcolor\": \"#E5ECF6\", \"radialaxis\": {\"gridcolor\": \"white\", \"linecolor\": \"white\", \"ticks\": \"\"}}, \"scene\": {\"xaxis\": {\"backgroundcolor\": \"#E5ECF6\", \"gridcolor\": \"white\", \"gridwidth\": 2, \"linecolor\": \"white\", \"showbackground\": true, \"ticks\": \"\", \"zerolinecolor\": \"white\"}, \"yaxis\": {\"backgroundcolor\": \"#E5ECF6\", \"gridcolor\": \"white\", \"gridwidth\": 2, \"linecolor\": \"white\", \"showbackground\": true, \"ticks\": \"\", \"zerolinecolor\": \"white\"}, \"zaxis\": {\"backgroundcolor\": \"#E5ECF6\", \"gridcolor\": \"white\", \"gridwidth\": 2, \"linecolor\": \"white\", \"showbackground\": true, \"ticks\": \"\", \"zerolinecolor\": \"white\"}}, \"shapedefaults\": {\"line\": {\"color\": \"#2a3f5f\"}}, \"ternary\": {\"aaxis\": {\"gridcolor\": \"white\", \"linecolor\": \"white\", \"ticks\": \"\"}, \"baxis\": {\"gridcolor\": \"white\", \"linecolor\": \"white\", \"ticks\": \"\"}, \"bgcolor\": \"#E5ECF6\", \"caxis\": {\"gridcolor\": \"white\", \"linecolor\": \"white\", \"ticks\": \"\"}}, \"title\": {\"x\": 0.05}, \"xaxis\": {\"automargin\": true, \"gridcolor\": \"white\", \"linecolor\": \"white\", \"ticks\": \"\", \"title\": {\"standoff\": 15}, \"zerolinecolor\": \"white\", \"zerolinewidth\": 2}, \"yaxis\": {\"automargin\": true, \"gridcolor\": \"white\", \"linecolor\": \"white\", \"ticks\": \"\", \"title\": {\"standoff\": 15}, \"zerolinecolor\": \"white\", \"zerolinewidth\": 2}}}, \"title\": {\"text\": \"N\\u00famero de tuits por d\\u00eda\"}},                        {\"responsive\": true}                    ).then(function(){\n",
       "                            \n",
       "var gd = document.getElementById('c42d084c-dd3e-499f-8939-cb138e762981');\n",
       "var x = new MutationObserver(function (mutations, observer) {{\n",
       "        var display = window.getComputedStyle(gd).display;\n",
       "        if (!display || display === 'none') {{\n",
       "            console.log([gd, 'removed!']);\n",
       "            Plotly.purge(gd);\n",
       "            observer.disconnect();\n",
       "        }}\n",
       "}});\n",
       "\n",
       "// Listen for the removal of the full notebook cells\n",
       "var notebookContainer = gd.closest('#notebook-container');\n",
       "if (notebookContainer) {{\n",
       "    x.observe(notebookContainer, {childList: true});\n",
       "}}\n",
       "\n",
       "// Listen for the clearing of the current output cell\n",
       "var outputEl = gd.closest('.output');\n",
       "if (outputEl) {{\n",
       "    x.observe(outputEl, {childList: true});\n",
       "}}\n",
       "\n",
       "                        })                };                });            </script>        </div>"
      ]
     },
     "metadata": {},
     "output_type": "display_data"
    }
   ],
   "source": [
    "trace = go.Scatter(x=temp.fecha.values,\n",
    "                   y=temp.cnt.values,\n",
    "                   text=[f\"Fecha: {f}<br>Tuits: {c}\" for f,c in zip(temp.fecha.values,temp.cnt.values)],\n",
    "                   hoverinfo='text',\n",
    "                   mode='lines+markers',\n",
    "                   name='Días',\n",
    "                   line={'color':'#1DA1F2'})\n",
    "\n",
    "layout = go.Layout(title='Número de tuits por día')\n",
    "\n",
    "fig = go.Figure(data=[trace], layout=layout)\n",
    "iplot(fig)"
   ]
  }
 ],
 "metadata": {
  "kernelspec": {
   "display_name": "Python 3",
   "language": "python",
   "name": "python3"
  },
  "language_info": {
   "codemirror_mode": {
    "name": "ipython",
    "version": 3
   },
   "file_extension": ".py",
   "mimetype": "text/x-python",
   "name": "python",
   "nbconvert_exporter": "python",
   "pygments_lexer": "ipython3",
   "version": "3.8.8"
  }
 },
 "nbformat": 4,
 "nbformat_minor": 2
}
