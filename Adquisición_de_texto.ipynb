{
 "cells": [
  {
   "cell_type": "code",
   "execution_count": 4,
   "id": "neural-syndicate",
   "metadata": {},
   "outputs": [],
   "source": [
    "import os\n",
    "from zipfile import ZipFile\n",
    "\n",
    "# cargo y descomprimo en drive\n",
    "direccion = \"C:/Users/dcard/OneDrive/Escritorio/NPL/python_books (2).zip\"\n",
    "\n",
    "# Descomprimir el archivo ZIP\n",
    "with ZipFile(direccion) as archivo:\n",
    "    archivo.extractall(\"../\")"
   ]
  },
  {
   "cell_type": "code",
   "execution_count": 5,
   "id": "colonial-chambers",
   "metadata": {},
   "outputs": [
    {
     "name": "stdout",
     "output_type": "stream",
     "text": [
      "Python  Data Science Cookbook.pdf\n",
      "Python - AWS.pdf\n",
      "Python - Finance.pdf\n"
     ]
    }
   ],
   "source": [
    "# Leer los archivos del directorio descomprimido\n",
    "for raiz, dirs, archivos in os.walk(\"../python_books\"):\n",
    "    # print(raiz, dirs, archivos)\t\n",
    "    for a in archivos: \n",
    "        print(a)"
   ]
  },
  {
   "cell_type": "code",
   "execution_count": 6,
   "id": "included-worthy",
   "metadata": {},
   "outputs": [
    {
     "name": "stdout",
     "output_type": "stream",
     "text": [
      "Collecting pymupdf\n",
      "  Downloading PyMuPDF-1.18.14-cp38-cp38-win_amd64.whl (5.4 MB)\n",
      "Installing collected packages: pymupdf\n",
      "Successfully installed pymupdf-1.18.14\n",
      "Note: you may need to restart the kernel to use updated packages.\n"
     ]
    }
   ],
   "source": [
    "pip install pymupdf"
   ]
  },
  {
   "cell_type": "code",
   "execution_count": 7,
   "id": "defined-alfred",
   "metadata": {},
   "outputs": [],
   "source": [
    "import fitz\n",
    "\n",
    "def leer_pdf(archivopdf):\n",
    "  documento = fitz.open(archivopdf)\n",
    "  #print(\"número de paginas: \", documento.pageCount)\n",
    "  pagina = documento.loadPage(0)\n",
    "  texto_pagina = pagina.getText(\"text\")\n",
    "  return texto_pagina\n",
    "\n",
    "def contar_palabras(texto):\n",
    "  palabras = texto.split()\n",
    "  cantidad_palabras = len(palabras)\n",
    "  return cantidad_palabras\n",
    "\n",
    "def retornar_conteo(archivopdf):\n",
    "  textopdf = leer_pdf(archivopdf)\n",
    "  contarpalabras = contar_palabras(textopdf)\n",
    "  return contarpalabras \n",
    "\n",
    "def num_mayor(n1,n2,n3):\n",
    "    if n1>n2 and n1>n3:\n",
    "        return n1\n",
    "    elif n2>n3:\n",
    "        return n2\n",
    "    return n3"
   ]
  },
  {
   "cell_type": "code",
   "execution_count": 8,
   "id": "experienced-confirmation",
   "metadata": {},
   "outputs": [
    {
     "name": "stdout",
     "output_type": "stream",
     "text": [
      "El archivo .pdf que tiene mas palabras:  535\n"
     ]
    }
   ],
   "source": [
    "pagina1 = retornar_conteo(\"../python_books/Python - Finance.pdf\")\n",
    "#print(pagina1)\n",
    "pagina2 = retornar_conteo(\"../python_books/Python  Data Science Cookbook.pdf\")\n",
    "#print(pagina2)\n",
    "pagina3 = retornar_conteo(\"../python_books/Python - AWS.pdf\")\n",
    "#print(pagina3)\n",
    "\n",
    "datocont = num_mayor(pagina1, pagina2, pagina3)\n",
    "print(\"El archivo .pdf que tiene mas palabras: \" , datocont)"
   ]
  },
  {
   "cell_type": "code",
   "execution_count": null,
   "id": "concerned-recorder",
   "metadata": {},
   "outputs": [],
   "source": []
  },
  {
   "cell_type": "code",
   "execution_count": null,
   "id": "coupled-tuning",
   "metadata": {},
   "outputs": [],
   "source": []
  },
  {
   "cell_type": "code",
   "execution_count": null,
   "id": "middle-bulletin",
   "metadata": {},
   "outputs": [],
   "source": []
  },
  {
   "cell_type": "code",
   "execution_count": null,
   "id": "unknown-bidder",
   "metadata": {},
   "outputs": [],
   "source": []
  }
 ],
 "metadata": {
  "kernelspec": {
   "display_name": "Python 3",
   "language": "python",
   "name": "python3"
  },
  "language_info": {
   "codemirror_mode": {
    "name": "ipython",
    "version": 3
   },
   "file_extension": ".py",
   "mimetype": "text/x-python",
   "name": "python",
   "nbconvert_exporter": "python",
   "pygments_lexer": "ipython3",
   "version": "3.8.8"
  }
 },
 "nbformat": 4,
 "nbformat_minor": 5
}
